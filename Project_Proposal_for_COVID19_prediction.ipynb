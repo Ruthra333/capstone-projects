{
  "nbformat": 4,
  "nbformat_minor": 0,
  "metadata": {
    "colab": {
      "provenance": [],
      "authorship_tag": "ABX9TyNKg41wVuWUPONOI9HyIOIK",
      "include_colab_link": true
    },
    "kernelspec": {
      "name": "python3",
      "display_name": "Python 3"
    },
    "language_info": {
      "name": "python"
    }
  },
  "cells": [
    {
      "cell_type": "markdown",
      "metadata": {
        "id": "view-in-github",
        "colab_type": "text"
      },
      "source": [
        "<a href=\"https://colab.research.google.com/github/Ruthra333/capstone-projects/blob/main/Project_Proposal_for_COVID19_prediction.ipynb\" target=\"_parent\"><img src=\"https://colab.research.google.com/assets/colab-badge.svg\" alt=\"Open In Colab\"/></a>"
      ]
    },
    {
      "cell_type": "markdown",
      "source": [
        "## **TITLE : COVID-19  PREDICTION**"
      ],
      "metadata": {
        "id": "qNRoYtRzkYs5"
      }
    },
    {
      "cell_type": "markdown",
      "source": [
        "## **Introduction:**\n",
        "In the wake of the COVID-19 pandemic, accurate and swift diagnosis plays a crucial role in effective healthcare management. This project leverages EDA &\n",
        "machine learning techniques to predict COVID-19 diagnoses based on symptoms and patient information. By analyzing a dataset containing information from individuals who underwent RT-PCR testing, the project aims to identify patterns that contribute to accurate predictions. The end goal is to create a model that can aid medical professionals in identifying potential COVID-19 cases efficiently.\n",
        "\n",
        "## **Key Objectives:**\n",
        "\n",
        "Develop a machine learning model to predict COVID-19 diagnoses.\n",
        "Explore the relationships between symptoms, age, sex, and COVID-19 outcomes.\n",
        "Provide insights for effective screening and diagnosis based on data patterns.\n",
        "Evaluate and compare the performance of different machine learning models.\n",
        "Utilize SQL queries to extract meaningful information from the dataset.\n",
        "\n",
        "## **Expected Impact:**\n",
        "\n",
        "Improved accuracy in predicting COVID-19 diagnoses.\n",
        "Efficient allocation of healthcare resources through targeted screening.\n",
        "Enhanced understanding of the relationship between symptoms and disease outcomes.\n",
        "A potential template for predicting other infectious diseases in the future.\n",
        "This project is designed to contribute to the ongoing efforts in managing and mitigating the impact of infectious diseases, with a focus on leveraging machine learning for more accurate and timely diagnoses."
      ],
      "metadata": {
        "id": "P-LYMJBXkn1s"
      }
    },
    {
      "cell_type": "markdown",
      "source": [
        "## **why this proposal ?**\n",
        "\n",
        "\n",
        " 1. Accurate prediction can significantly improve medical treatment and **screening efficiency**.\n",
        "\n",
        "2. **Reducing the healthcare burden** by identifying potential COVID-19 cases promptly."
      ],
      "metadata": {
        "id": "2VeEq3xVknuz"
      }
    },
    {
      "cell_type": "markdown",
      "source": [
        "## **Impact of effective screening and reducing health care burden :**\n",
        "\n",
        "1. Early identification allows for timely and appropriate medical intervention.\n",
        "\n",
        "2. Prevents the spread of the disease and optimizes resource allocation.\n",
        "\n",
        "3. Efficient screening reduces the load on healthcare systems.\n",
        "\n",
        "4. Enables targeted testing and resource allocation."
      ],
      "metadata": {
        "id": "NkL67i4kknng"
      }
    },
    {
      "cell_type": "markdown",
      "source": [
        "## **how my proposed method can be helpful for future diseases?**\n",
        "\n",
        "1. The model can serve as a template for predicting other infectious diseases.\n",
        "\n",
        "2. Enhances our understanding of the relationship between symptoms and disease outcomes."
      ],
      "metadata": {
        "id": "o8stQLkCn4uw"
      }
    },
    {
      "cell_type": "markdown",
      "source": [
        "## **Hypothesis:**\n",
        "\n",
        "  Certain symptoms (cough, fever, shortness of breath) will strongly correlate with a positive COVID-19 diagnosis."
      ],
      "metadata": {
        "id": "0RnukvyCn4nO"
      }
    },
    {
      "cell_type": "markdown",
      "source": [
        "## **Exploratory data analytics**"
      ],
      "metadata": {
        "id": "70R5eRE75X8i"
      }
    },
    {
      "cell_type": "markdown",
      "source": [
        "### **Data importing ⏬**"
      ],
      "metadata": {
        "id": "YULa1yGj5lWp"
      }
    },
    {
      "cell_type": "code",
      "source": [
        "# importing required libraries\n",
        "import numpy as np\n",
        "import pandas as pd\n",
        "import matplotlib.pyplot as plt\n",
        "import seaborn as sns\n",
        "import random"
      ],
      "metadata": {
        "id": "2jrRtvc66SJf"
      },
      "execution_count": 3,
      "outputs": []
    },
    {
      "cell_type": "code",
      "source": [
        "# loading the dataset\n",
        "df=pd.read_csv(\"/content/corona_tested_006.csv\")"
      ],
      "metadata": {
        "colab": {
          "base_uri": "https://localhost:8080/"
        },
        "id": "oEC91TKw7gvW",
        "outputId": "0f82c0a3-c2d6-43e9-b036-3f1a511629b7"
      },
      "execution_count": 4,
      "outputs": [
        {
          "output_type": "stream",
          "name": "stderr",
          "text": [
            "<ipython-input-4-0768bf204935>:2: DtypeWarning: Columns (2,3,4,5,6) have mixed types. Specify dtype option on import or set low_memory=False.\n",
            "  df=pd.read_csv(\"/content/corona_tested_006.csv\")\n"
          ]
        }
      ]
    },
    {
      "cell_type": "markdown",
      "source": [
        "### **Data pre-processing & exploration 🔍**"
      ],
      "metadata": {
        "id": "RX6yMjKL-0dN"
      }
    },
    {
      "cell_type": "code",
      "source": [
        "df.head()"
      ],
      "metadata": {
        "colab": {
          "base_uri": "https://localhost:8080/",
          "height": 206
        },
        "id": "SGrk4ClfBWkC",
        "outputId": "8e544a5b-fc98-411d-ee16-bcfdb1fadb8f"
      },
      "execution_count": 5,
      "outputs": [
        {
          "output_type": "execute_result",
          "data": {
            "text/plain": [
              "   Ind_ID   Test_date Cough_symptoms  Fever Sore_throat Shortness_of_breath  \\\n",
              "0       1  11-03-2020           TRUE  FALSE        TRUE               FALSE   \n",
              "1       2  11-03-2020          FALSE   TRUE       FALSE               FALSE   \n",
              "2       3  11-03-2020          FALSE   TRUE       FALSE               FALSE   \n",
              "3       4  11-03-2020           TRUE  FALSE       FALSE               FALSE   \n",
              "4       5  11-03-2020           TRUE  FALSE       FALSE               FALSE   \n",
              "\n",
              "  Headache    Corona Age_60_above   Sex           Known_contact  \n",
              "0    FALSE  negative         None  None                  Abroad  \n",
              "1    FALSE  positive         None  None                  Abroad  \n",
              "2    FALSE  positive         None  None                  Abroad  \n",
              "3    FALSE  negative         None  None                  Abroad  \n",
              "4    FALSE  negative         None  None  Contact with confirmed  "
            ],
            "text/html": [
              "\n",
              "  <div id=\"df-6f12a434-515e-43d4-bfa9-0dbfcee42ec0\" class=\"colab-df-container\">\n",
              "    <div>\n",
              "<style scoped>\n",
              "    .dataframe tbody tr th:only-of-type {\n",
              "        vertical-align: middle;\n",
              "    }\n",
              "\n",
              "    .dataframe tbody tr th {\n",
              "        vertical-align: top;\n",
              "    }\n",
              "\n",
              "    .dataframe thead th {\n",
              "        text-align: right;\n",
              "    }\n",
              "</style>\n",
              "<table border=\"1\" class=\"dataframe\">\n",
              "  <thead>\n",
              "    <tr style=\"text-align: right;\">\n",
              "      <th></th>\n",
              "      <th>Ind_ID</th>\n",
              "      <th>Test_date</th>\n",
              "      <th>Cough_symptoms</th>\n",
              "      <th>Fever</th>\n",
              "      <th>Sore_throat</th>\n",
              "      <th>Shortness_of_breath</th>\n",
              "      <th>Headache</th>\n",
              "      <th>Corona</th>\n",
              "      <th>Age_60_above</th>\n",
              "      <th>Sex</th>\n",
              "      <th>Known_contact</th>\n",
              "    </tr>\n",
              "  </thead>\n",
              "  <tbody>\n",
              "    <tr>\n",
              "      <th>0</th>\n",
              "      <td>1</td>\n",
              "      <td>11-03-2020</td>\n",
              "      <td>TRUE</td>\n",
              "      <td>FALSE</td>\n",
              "      <td>TRUE</td>\n",
              "      <td>FALSE</td>\n",
              "      <td>FALSE</td>\n",
              "      <td>negative</td>\n",
              "      <td>None</td>\n",
              "      <td>None</td>\n",
              "      <td>Abroad</td>\n",
              "    </tr>\n",
              "    <tr>\n",
              "      <th>1</th>\n",
              "      <td>2</td>\n",
              "      <td>11-03-2020</td>\n",
              "      <td>FALSE</td>\n",
              "      <td>TRUE</td>\n",
              "      <td>FALSE</td>\n",
              "      <td>FALSE</td>\n",
              "      <td>FALSE</td>\n",
              "      <td>positive</td>\n",
              "      <td>None</td>\n",
              "      <td>None</td>\n",
              "      <td>Abroad</td>\n",
              "    </tr>\n",
              "    <tr>\n",
              "      <th>2</th>\n",
              "      <td>3</td>\n",
              "      <td>11-03-2020</td>\n",
              "      <td>FALSE</td>\n",
              "      <td>TRUE</td>\n",
              "      <td>FALSE</td>\n",
              "      <td>FALSE</td>\n",
              "      <td>FALSE</td>\n",
              "      <td>positive</td>\n",
              "      <td>None</td>\n",
              "      <td>None</td>\n",
              "      <td>Abroad</td>\n",
              "    </tr>\n",
              "    <tr>\n",
              "      <th>3</th>\n",
              "      <td>4</td>\n",
              "      <td>11-03-2020</td>\n",
              "      <td>TRUE</td>\n",
              "      <td>FALSE</td>\n",
              "      <td>FALSE</td>\n",
              "      <td>FALSE</td>\n",
              "      <td>FALSE</td>\n",
              "      <td>negative</td>\n",
              "      <td>None</td>\n",
              "      <td>None</td>\n",
              "      <td>Abroad</td>\n",
              "    </tr>\n",
              "    <tr>\n",
              "      <th>4</th>\n",
              "      <td>5</td>\n",
              "      <td>11-03-2020</td>\n",
              "      <td>TRUE</td>\n",
              "      <td>FALSE</td>\n",
              "      <td>FALSE</td>\n",
              "      <td>FALSE</td>\n",
              "      <td>FALSE</td>\n",
              "      <td>negative</td>\n",
              "      <td>None</td>\n",
              "      <td>None</td>\n",
              "      <td>Contact with confirmed</td>\n",
              "    </tr>\n",
              "  </tbody>\n",
              "</table>\n",
              "</div>\n",
              "    <div class=\"colab-df-buttons\">\n",
              "\n",
              "  <div class=\"colab-df-container\">\n",
              "    <button class=\"colab-df-convert\" onclick=\"convertToInteractive('df-6f12a434-515e-43d4-bfa9-0dbfcee42ec0')\"\n",
              "            title=\"Convert this dataframe to an interactive table.\"\n",
              "            style=\"display:none;\">\n",
              "\n",
              "  <svg xmlns=\"http://www.w3.org/2000/svg\" height=\"24px\" viewBox=\"0 -960 960 960\">\n",
              "    <path d=\"M120-120v-720h720v720H120Zm60-500h600v-160H180v160Zm220 220h160v-160H400v160Zm0 220h160v-160H400v160ZM180-400h160v-160H180v160Zm440 0h160v-160H620v160ZM180-180h160v-160H180v160Zm440 0h160v-160H620v160Z\"/>\n",
              "  </svg>\n",
              "    </button>\n",
              "\n",
              "  <style>\n",
              "    .colab-df-container {\n",
              "      display:flex;\n",
              "      gap: 12px;\n",
              "    }\n",
              "\n",
              "    .colab-df-convert {\n",
              "      background-color: #E8F0FE;\n",
              "      border: none;\n",
              "      border-radius: 50%;\n",
              "      cursor: pointer;\n",
              "      display: none;\n",
              "      fill: #1967D2;\n",
              "      height: 32px;\n",
              "      padding: 0 0 0 0;\n",
              "      width: 32px;\n",
              "    }\n",
              "\n",
              "    .colab-df-convert:hover {\n",
              "      background-color: #E2EBFA;\n",
              "      box-shadow: 0px 1px 2px rgba(60, 64, 67, 0.3), 0px 1px 3px 1px rgba(60, 64, 67, 0.15);\n",
              "      fill: #174EA6;\n",
              "    }\n",
              "\n",
              "    .colab-df-buttons div {\n",
              "      margin-bottom: 4px;\n",
              "    }\n",
              "\n",
              "    [theme=dark] .colab-df-convert {\n",
              "      background-color: #3B4455;\n",
              "      fill: #D2E3FC;\n",
              "    }\n",
              "\n",
              "    [theme=dark] .colab-df-convert:hover {\n",
              "      background-color: #434B5C;\n",
              "      box-shadow: 0px 1px 3px 1px rgba(0, 0, 0, 0.15);\n",
              "      filter: drop-shadow(0px 1px 2px rgba(0, 0, 0, 0.3));\n",
              "      fill: #FFFFFF;\n",
              "    }\n",
              "  </style>\n",
              "\n",
              "    <script>\n",
              "      const buttonEl =\n",
              "        document.querySelector('#df-6f12a434-515e-43d4-bfa9-0dbfcee42ec0 button.colab-df-convert');\n",
              "      buttonEl.style.display =\n",
              "        google.colab.kernel.accessAllowed ? 'block' : 'none';\n",
              "\n",
              "      async function convertToInteractive(key) {\n",
              "        const element = document.querySelector('#df-6f12a434-515e-43d4-bfa9-0dbfcee42ec0');\n",
              "        const dataTable =\n",
              "          await google.colab.kernel.invokeFunction('convertToInteractive',\n",
              "                                                    [key], {});\n",
              "        if (!dataTable) return;\n",
              "\n",
              "        const docLinkHtml = 'Like what you see? Visit the ' +\n",
              "          '<a target=\"_blank\" href=https://colab.research.google.com/notebooks/data_table.ipynb>data table notebook</a>'\n",
              "          + ' to learn more about interactive tables.';\n",
              "        element.innerHTML = '';\n",
              "        dataTable['output_type'] = 'display_data';\n",
              "        await google.colab.output.renderOutput(dataTable, element);\n",
              "        const docLink = document.createElement('div');\n",
              "        docLink.innerHTML = docLinkHtml;\n",
              "        element.appendChild(docLink);\n",
              "      }\n",
              "    </script>\n",
              "  </div>\n",
              "\n",
              "\n",
              "<div id=\"df-0a970d6d-db84-4c37-857e-41c0068765e6\">\n",
              "  <button class=\"colab-df-quickchart\" onclick=\"quickchart('df-0a970d6d-db84-4c37-857e-41c0068765e6')\"\n",
              "            title=\"Suggest charts\"\n",
              "            style=\"display:none;\">\n",
              "\n",
              "<svg xmlns=\"http://www.w3.org/2000/svg\" height=\"24px\"viewBox=\"0 0 24 24\"\n",
              "     width=\"24px\">\n",
              "    <g>\n",
              "        <path d=\"M19 3H5c-1.1 0-2 .9-2 2v14c0 1.1.9 2 2 2h14c1.1 0 2-.9 2-2V5c0-1.1-.9-2-2-2zM9 17H7v-7h2v7zm4 0h-2V7h2v10zm4 0h-2v-4h2v4z\"/>\n",
              "    </g>\n",
              "</svg>\n",
              "  </button>\n",
              "\n",
              "<style>\n",
              "  .colab-df-quickchart {\n",
              "      --bg-color: #E8F0FE;\n",
              "      --fill-color: #1967D2;\n",
              "      --hover-bg-color: #E2EBFA;\n",
              "      --hover-fill-color: #174EA6;\n",
              "      --disabled-fill-color: #AAA;\n",
              "      --disabled-bg-color: #DDD;\n",
              "  }\n",
              "\n",
              "  [theme=dark] .colab-df-quickchart {\n",
              "      --bg-color: #3B4455;\n",
              "      --fill-color: #D2E3FC;\n",
              "      --hover-bg-color: #434B5C;\n",
              "      --hover-fill-color: #FFFFFF;\n",
              "      --disabled-bg-color: #3B4455;\n",
              "      --disabled-fill-color: #666;\n",
              "  }\n",
              "\n",
              "  .colab-df-quickchart {\n",
              "    background-color: var(--bg-color);\n",
              "    border: none;\n",
              "    border-radius: 50%;\n",
              "    cursor: pointer;\n",
              "    display: none;\n",
              "    fill: var(--fill-color);\n",
              "    height: 32px;\n",
              "    padding: 0;\n",
              "    width: 32px;\n",
              "  }\n",
              "\n",
              "  .colab-df-quickchart:hover {\n",
              "    background-color: var(--hover-bg-color);\n",
              "    box-shadow: 0 1px 2px rgba(60, 64, 67, 0.3), 0 1px 3px 1px rgba(60, 64, 67, 0.15);\n",
              "    fill: var(--button-hover-fill-color);\n",
              "  }\n",
              "\n",
              "  .colab-df-quickchart-complete:disabled,\n",
              "  .colab-df-quickchart-complete:disabled:hover {\n",
              "    background-color: var(--disabled-bg-color);\n",
              "    fill: var(--disabled-fill-color);\n",
              "    box-shadow: none;\n",
              "  }\n",
              "\n",
              "  .colab-df-spinner {\n",
              "    border: 2px solid var(--fill-color);\n",
              "    border-color: transparent;\n",
              "    border-bottom-color: var(--fill-color);\n",
              "    animation:\n",
              "      spin 1s steps(1) infinite;\n",
              "  }\n",
              "\n",
              "  @keyframes spin {\n",
              "    0% {\n",
              "      border-color: transparent;\n",
              "      border-bottom-color: var(--fill-color);\n",
              "      border-left-color: var(--fill-color);\n",
              "    }\n",
              "    20% {\n",
              "      border-color: transparent;\n",
              "      border-left-color: var(--fill-color);\n",
              "      border-top-color: var(--fill-color);\n",
              "    }\n",
              "    30% {\n",
              "      border-color: transparent;\n",
              "      border-left-color: var(--fill-color);\n",
              "      border-top-color: var(--fill-color);\n",
              "      border-right-color: var(--fill-color);\n",
              "    }\n",
              "    40% {\n",
              "      border-color: transparent;\n",
              "      border-right-color: var(--fill-color);\n",
              "      border-top-color: var(--fill-color);\n",
              "    }\n",
              "    60% {\n",
              "      border-color: transparent;\n",
              "      border-right-color: var(--fill-color);\n",
              "    }\n",
              "    80% {\n",
              "      border-color: transparent;\n",
              "      border-right-color: var(--fill-color);\n",
              "      border-bottom-color: var(--fill-color);\n",
              "    }\n",
              "    90% {\n",
              "      border-color: transparent;\n",
              "      border-bottom-color: var(--fill-color);\n",
              "    }\n",
              "  }\n",
              "</style>\n",
              "\n",
              "  <script>\n",
              "    async function quickchart(key) {\n",
              "      const quickchartButtonEl =\n",
              "        document.querySelector('#' + key + ' button');\n",
              "      quickchartButtonEl.disabled = true;  // To prevent multiple clicks.\n",
              "      quickchartButtonEl.classList.add('colab-df-spinner');\n",
              "      try {\n",
              "        const charts = await google.colab.kernel.invokeFunction(\n",
              "            'suggestCharts', [key], {});\n",
              "      } catch (error) {\n",
              "        console.error('Error during call to suggestCharts:', error);\n",
              "      }\n",
              "      quickchartButtonEl.classList.remove('colab-df-spinner');\n",
              "      quickchartButtonEl.classList.add('colab-df-quickchart-complete');\n",
              "    }\n",
              "    (() => {\n",
              "      let quickchartButtonEl =\n",
              "        document.querySelector('#df-0a970d6d-db84-4c37-857e-41c0068765e6 button');\n",
              "      quickchartButtonEl.style.display =\n",
              "        google.colab.kernel.accessAllowed ? 'block' : 'none';\n",
              "    })();\n",
              "  </script>\n",
              "</div>\n",
              "\n",
              "    </div>\n",
              "  </div>\n"
            ]
          },
          "metadata": {},
          "execution_count": 5
        }
      ]
    },
    {
      "cell_type": "code",
      "source": [
        "df.info()  # we can see that except ind_id column all are object"
      ],
      "metadata": {
        "colab": {
          "base_uri": "https://localhost:8080/"
        },
        "id": "ftzR-wRODDDd",
        "outputId": "99d7d7d5-79e0-4adc-ed68-24ecc90c8314"
      },
      "execution_count": 6,
      "outputs": [
        {
          "output_type": "stream",
          "name": "stdout",
          "text": [
            "<class 'pandas.core.frame.DataFrame'>\n",
            "RangeIndex: 278848 entries, 0 to 278847\n",
            "Data columns (total 11 columns):\n",
            " #   Column               Non-Null Count   Dtype \n",
            "---  ------               --------------   ----- \n",
            " 0   Ind_ID               278848 non-null  int64 \n",
            " 1   Test_date            278848 non-null  object\n",
            " 2   Cough_symptoms       278848 non-null  object\n",
            " 3   Fever                278848 non-null  object\n",
            " 4   Sore_throat          278848 non-null  object\n",
            " 5   Shortness_of_breath  278848 non-null  object\n",
            " 6   Headache             278848 non-null  object\n",
            " 7   Corona               278848 non-null  object\n",
            " 8   Age_60_above         278848 non-null  object\n",
            " 9   Sex                  278848 non-null  object\n",
            " 10  Known_contact        278848 non-null  object\n",
            "dtypes: int64(1), object(10)\n",
            "memory usage: 23.4+ MB\n"
          ]
        }
      ]
    },
    {
      "cell_type": "code",
      "source": [
        "# converting the datatype as categorical\n",
        "\n",
        "for i in df.columns:\n",
        "    if i=='Ind_ID' or i == 'Test_date':\n",
        "        pass\n",
        "    else:\n",
        "        df[i] = df[i].astype('category')"
      ],
      "metadata": {
        "id": "U-wX0T3dRW7l"
      },
      "execution_count": 7,
      "outputs": []
    },
    {
      "cell_type": "code",
      "source": [
        "df.describe(include='O') # we can see columns with unique values"
      ],
      "metadata": {
        "colab": {
          "base_uri": "https://localhost:8080/",
          "height": 175
        },
        "id": "lqCR-LQKDP3X",
        "outputId": "adaa299b-3539-48f0-b3c5-77bb071625b6"
      },
      "execution_count": 8,
      "outputs": [
        {
          "output_type": "execute_result",
          "data": {
            "text/plain": [
              "         Test_date\n",
              "count       278848\n",
              "unique          51\n",
              "top     20-04-2020\n",
              "freq         10921"
            ],
            "text/html": [
              "\n",
              "  <div id=\"df-bfb8540c-2277-4dfc-ba94-570ae24af9f2\" class=\"colab-df-container\">\n",
              "    <div>\n",
              "<style scoped>\n",
              "    .dataframe tbody tr th:only-of-type {\n",
              "        vertical-align: middle;\n",
              "    }\n",
              "\n",
              "    .dataframe tbody tr th {\n",
              "        vertical-align: top;\n",
              "    }\n",
              "\n",
              "    .dataframe thead th {\n",
              "        text-align: right;\n",
              "    }\n",
              "</style>\n",
              "<table border=\"1\" class=\"dataframe\">\n",
              "  <thead>\n",
              "    <tr style=\"text-align: right;\">\n",
              "      <th></th>\n",
              "      <th>Test_date</th>\n",
              "    </tr>\n",
              "  </thead>\n",
              "  <tbody>\n",
              "    <tr>\n",
              "      <th>count</th>\n",
              "      <td>278848</td>\n",
              "    </tr>\n",
              "    <tr>\n",
              "      <th>unique</th>\n",
              "      <td>51</td>\n",
              "    </tr>\n",
              "    <tr>\n",
              "      <th>top</th>\n",
              "      <td>20-04-2020</td>\n",
              "    </tr>\n",
              "    <tr>\n",
              "      <th>freq</th>\n",
              "      <td>10921</td>\n",
              "    </tr>\n",
              "  </tbody>\n",
              "</table>\n",
              "</div>\n",
              "    <div class=\"colab-df-buttons\">\n",
              "\n",
              "  <div class=\"colab-df-container\">\n",
              "    <button class=\"colab-df-convert\" onclick=\"convertToInteractive('df-bfb8540c-2277-4dfc-ba94-570ae24af9f2')\"\n",
              "            title=\"Convert this dataframe to an interactive table.\"\n",
              "            style=\"display:none;\">\n",
              "\n",
              "  <svg xmlns=\"http://www.w3.org/2000/svg\" height=\"24px\" viewBox=\"0 -960 960 960\">\n",
              "    <path d=\"M120-120v-720h720v720H120Zm60-500h600v-160H180v160Zm220 220h160v-160H400v160Zm0 220h160v-160H400v160ZM180-400h160v-160H180v160Zm440 0h160v-160H620v160ZM180-180h160v-160H180v160Zm440 0h160v-160H620v160Z\"/>\n",
              "  </svg>\n",
              "    </button>\n",
              "\n",
              "  <style>\n",
              "    .colab-df-container {\n",
              "      display:flex;\n",
              "      gap: 12px;\n",
              "    }\n",
              "\n",
              "    .colab-df-convert {\n",
              "      background-color: #E8F0FE;\n",
              "      border: none;\n",
              "      border-radius: 50%;\n",
              "      cursor: pointer;\n",
              "      display: none;\n",
              "      fill: #1967D2;\n",
              "      height: 32px;\n",
              "      padding: 0 0 0 0;\n",
              "      width: 32px;\n",
              "    }\n",
              "\n",
              "    .colab-df-convert:hover {\n",
              "      background-color: #E2EBFA;\n",
              "      box-shadow: 0px 1px 2px rgba(60, 64, 67, 0.3), 0px 1px 3px 1px rgba(60, 64, 67, 0.15);\n",
              "      fill: #174EA6;\n",
              "    }\n",
              "\n",
              "    .colab-df-buttons div {\n",
              "      margin-bottom: 4px;\n",
              "    }\n",
              "\n",
              "    [theme=dark] .colab-df-convert {\n",
              "      background-color: #3B4455;\n",
              "      fill: #D2E3FC;\n",
              "    }\n",
              "\n",
              "    [theme=dark] .colab-df-convert:hover {\n",
              "      background-color: #434B5C;\n",
              "      box-shadow: 0px 1px 3px 1px rgba(0, 0, 0, 0.15);\n",
              "      filter: drop-shadow(0px 1px 2px rgba(0, 0, 0, 0.3));\n",
              "      fill: #FFFFFF;\n",
              "    }\n",
              "  </style>\n",
              "\n",
              "    <script>\n",
              "      const buttonEl =\n",
              "        document.querySelector('#df-bfb8540c-2277-4dfc-ba94-570ae24af9f2 button.colab-df-convert');\n",
              "      buttonEl.style.display =\n",
              "        google.colab.kernel.accessAllowed ? 'block' : 'none';\n",
              "\n",
              "      async function convertToInteractive(key) {\n",
              "        const element = document.querySelector('#df-bfb8540c-2277-4dfc-ba94-570ae24af9f2');\n",
              "        const dataTable =\n",
              "          await google.colab.kernel.invokeFunction('convertToInteractive',\n",
              "                                                    [key], {});\n",
              "        if (!dataTable) return;\n",
              "\n",
              "        const docLinkHtml = 'Like what you see? Visit the ' +\n",
              "          '<a target=\"_blank\" href=https://colab.research.google.com/notebooks/data_table.ipynb>data table notebook</a>'\n",
              "          + ' to learn more about interactive tables.';\n",
              "        element.innerHTML = '';\n",
              "        dataTable['output_type'] = 'display_data';\n",
              "        await google.colab.output.renderOutput(dataTable, element);\n",
              "        const docLink = document.createElement('div');\n",
              "        docLink.innerHTML = docLinkHtml;\n",
              "        element.appendChild(docLink);\n",
              "      }\n",
              "    </script>\n",
              "  </div>\n",
              "\n",
              "\n",
              "<div id=\"df-ce9b6e83-5983-46ea-bc30-1ab259fd405e\">\n",
              "  <button class=\"colab-df-quickchart\" onclick=\"quickchart('df-ce9b6e83-5983-46ea-bc30-1ab259fd405e')\"\n",
              "            title=\"Suggest charts\"\n",
              "            style=\"display:none;\">\n",
              "\n",
              "<svg xmlns=\"http://www.w3.org/2000/svg\" height=\"24px\"viewBox=\"0 0 24 24\"\n",
              "     width=\"24px\">\n",
              "    <g>\n",
              "        <path d=\"M19 3H5c-1.1 0-2 .9-2 2v14c0 1.1.9 2 2 2h14c1.1 0 2-.9 2-2V5c0-1.1-.9-2-2-2zM9 17H7v-7h2v7zm4 0h-2V7h2v10zm4 0h-2v-4h2v4z\"/>\n",
              "    </g>\n",
              "</svg>\n",
              "  </button>\n",
              "\n",
              "<style>\n",
              "  .colab-df-quickchart {\n",
              "      --bg-color: #E8F0FE;\n",
              "      --fill-color: #1967D2;\n",
              "      --hover-bg-color: #E2EBFA;\n",
              "      --hover-fill-color: #174EA6;\n",
              "      --disabled-fill-color: #AAA;\n",
              "      --disabled-bg-color: #DDD;\n",
              "  }\n",
              "\n",
              "  [theme=dark] .colab-df-quickchart {\n",
              "      --bg-color: #3B4455;\n",
              "      --fill-color: #D2E3FC;\n",
              "      --hover-bg-color: #434B5C;\n",
              "      --hover-fill-color: #FFFFFF;\n",
              "      --disabled-bg-color: #3B4455;\n",
              "      --disabled-fill-color: #666;\n",
              "  }\n",
              "\n",
              "  .colab-df-quickchart {\n",
              "    background-color: var(--bg-color);\n",
              "    border: none;\n",
              "    border-radius: 50%;\n",
              "    cursor: pointer;\n",
              "    display: none;\n",
              "    fill: var(--fill-color);\n",
              "    height: 32px;\n",
              "    padding: 0;\n",
              "    width: 32px;\n",
              "  }\n",
              "\n",
              "  .colab-df-quickchart:hover {\n",
              "    background-color: var(--hover-bg-color);\n",
              "    box-shadow: 0 1px 2px rgba(60, 64, 67, 0.3), 0 1px 3px 1px rgba(60, 64, 67, 0.15);\n",
              "    fill: var(--button-hover-fill-color);\n",
              "  }\n",
              "\n",
              "  .colab-df-quickchart-complete:disabled,\n",
              "  .colab-df-quickchart-complete:disabled:hover {\n",
              "    background-color: var(--disabled-bg-color);\n",
              "    fill: var(--disabled-fill-color);\n",
              "    box-shadow: none;\n",
              "  }\n",
              "\n",
              "  .colab-df-spinner {\n",
              "    border: 2px solid var(--fill-color);\n",
              "    border-color: transparent;\n",
              "    border-bottom-color: var(--fill-color);\n",
              "    animation:\n",
              "      spin 1s steps(1) infinite;\n",
              "  }\n",
              "\n",
              "  @keyframes spin {\n",
              "    0% {\n",
              "      border-color: transparent;\n",
              "      border-bottom-color: var(--fill-color);\n",
              "      border-left-color: var(--fill-color);\n",
              "    }\n",
              "    20% {\n",
              "      border-color: transparent;\n",
              "      border-left-color: var(--fill-color);\n",
              "      border-top-color: var(--fill-color);\n",
              "    }\n",
              "    30% {\n",
              "      border-color: transparent;\n",
              "      border-left-color: var(--fill-color);\n",
              "      border-top-color: var(--fill-color);\n",
              "      border-right-color: var(--fill-color);\n",
              "    }\n",
              "    40% {\n",
              "      border-color: transparent;\n",
              "      border-right-color: var(--fill-color);\n",
              "      border-top-color: var(--fill-color);\n",
              "    }\n",
              "    60% {\n",
              "      border-color: transparent;\n",
              "      border-right-color: var(--fill-color);\n",
              "    }\n",
              "    80% {\n",
              "      border-color: transparent;\n",
              "      border-right-color: var(--fill-color);\n",
              "      border-bottom-color: var(--fill-color);\n",
              "    }\n",
              "    90% {\n",
              "      border-color: transparent;\n",
              "      border-bottom-color: var(--fill-color);\n",
              "    }\n",
              "  }\n",
              "</style>\n",
              "\n",
              "  <script>\n",
              "    async function quickchart(key) {\n",
              "      const quickchartButtonEl =\n",
              "        document.querySelector('#' + key + ' button');\n",
              "      quickchartButtonEl.disabled = true;  // To prevent multiple clicks.\n",
              "      quickchartButtonEl.classList.add('colab-df-spinner');\n",
              "      try {\n",
              "        const charts = await google.colab.kernel.invokeFunction(\n",
              "            'suggestCharts', [key], {});\n",
              "      } catch (error) {\n",
              "        console.error('Error during call to suggestCharts:', error);\n",
              "      }\n",
              "      quickchartButtonEl.classList.remove('colab-df-spinner');\n",
              "      quickchartButtonEl.classList.add('colab-df-quickchart-complete');\n",
              "    }\n",
              "    (() => {\n",
              "      let quickchartButtonEl =\n",
              "        document.querySelector('#df-ce9b6e83-5983-46ea-bc30-1ab259fd405e button');\n",
              "      quickchartButtonEl.style.display =\n",
              "        google.colab.kernel.accessAllowed ? 'block' : 'none';\n",
              "    })();\n",
              "  </script>\n",
              "</div>\n",
              "\n",
              "    </div>\n",
              "  </div>\n"
            ]
          },
          "metadata": {},
          "execution_count": 8
        }
      ]
    },
    {
      "cell_type": "code",
      "source": [
        "df['Corona'].value_counts() #checking the unique values"
      ],
      "metadata": {
        "colab": {
          "base_uri": "https://localhost:8080/"
        },
        "id": "UUct0TcFEWmD",
        "outputId": "9c651a2a-257a-432f-8f91-309cf51d13c9"
      },
      "execution_count": 9,
      "outputs": [
        {
          "output_type": "execute_result",
          "data": {
            "text/plain": [
              "negative    260227\n",
              "positive     14729\n",
              "other         3892\n",
              "Name: Corona, dtype: int64"
            ]
          },
          "metadata": {},
          "execution_count": 9
        }
      ]
    },
    {
      "cell_type": "code",
      "source": [
        "# standardizing the representation of boolean values in a column\n",
        "\n",
        "def convert(x):\n",
        "    if x=='TRUE' or x==True:\n",
        "        return 'true'\n",
        "    elif x=='FALSE' or x==False:\n",
        "        return 'false'\n",
        "    else:\n",
        "        return x"
      ],
      "metadata": {
        "id": "TAHZVTrWGyx5"
      },
      "execution_count": 10,
      "outputs": []
    },
    {
      "cell_type": "code",
      "source": [
        "# modifying it in the dataframe\n",
        "df['Cough_symptoms'] = df['Cough_symptoms'].map(convert)\n",
        "df['Fever'] = df['Fever'].map(convert)\n",
        "df['Sore_throat'] = df['Sore_throat'].map(convert)\n",
        "df['Shortness_of_breath'] = df['Shortness_of_breath'].map(convert)\n",
        "df['Headache'] = df['Headache'].map(convert)"
      ],
      "metadata": {
        "id": "a-RYEGAgHzrZ"
      },
      "execution_count": 11,
      "outputs": []
    },
    {
      "cell_type": "code",
      "source": [
        "# replacing the none values with Nan values to get it as null values\n",
        "\n",
        "df.replace({'None': np.nan,'other': np.nan}, inplace=True)"
      ],
      "metadata": {
        "id": "DQINJEJ9MEhA"
      },
      "execution_count": 12,
      "outputs": []
    },
    {
      "cell_type": "code",
      "source": [
        "df.isnull().sum()"
      ],
      "metadata": {
        "colab": {
          "base_uri": "https://localhost:8080/"
        },
        "id": "x401Ph7NL9Zd",
        "outputId": "21cb530d-bdc5-473f-e28e-505d9ba7b011"
      },
      "execution_count": 13,
      "outputs": [
        {
          "output_type": "execute_result",
          "data": {
            "text/plain": [
              "Ind_ID                      0\n",
              "Test_date                   0\n",
              "Cough_symptoms            252\n",
              "Fever                     252\n",
              "Sore_throat                 1\n",
              "Shortness_of_breath         1\n",
              "Headache                    1\n",
              "Corona                   3892\n",
              "Age_60_above           127320\n",
              "Sex                     19563\n",
              "Known_contact               0\n",
              "dtype: int64"
            ]
          },
          "metadata": {},
          "execution_count": 13
        }
      ]
    },
    {
      "cell_type": "code",
      "source": [
        "# dropping null values\n",
        "df.dropna(subset=['Cough_symptoms','Fever','Sore_throat','Shortness_of_breath','Headache','Corona'],axis=0,inplace=True)"
      ],
      "metadata": {
        "id": "4FBxr71mMngd"
      },
      "execution_count": 14,
      "outputs": []
    },
    {
      "cell_type": "code",
      "source": [
        "# # dropping the age_60_above column as more than of data is missing and it may lead to bias\n",
        "df.drop('Age_60_above',axis=1,inplace=True)"
      ],
      "metadata": {
        "id": "MYdiIL7HSda3"
      },
      "execution_count": 15,
      "outputs": []
    },
    {
      "cell_type": "code",
      "source": [
        "df.info()"
      ],
      "metadata": {
        "colab": {
          "base_uri": "https://localhost:8080/"
        },
        "id": "53lXmpSaTcEJ",
        "outputId": "9bdf4356-3ac3-417b-ebcd-4e965fa0d390"
      },
      "execution_count": 16,
      "outputs": [
        {
          "output_type": "stream",
          "name": "stdout",
          "text": [
            "<class 'pandas.core.frame.DataFrame'>\n",
            "Int64Index: 274702 entries, 0 to 278847\n",
            "Data columns (total 10 columns):\n",
            " #   Column               Non-Null Count   Dtype   \n",
            "---  ------               --------------   -----   \n",
            " 0   Ind_ID               274702 non-null  int64   \n",
            " 1   Test_date            274702 non-null  object  \n",
            " 2   Cough_symptoms       274702 non-null  object  \n",
            " 3   Fever                274702 non-null  object  \n",
            " 4   Sore_throat          274702 non-null  object  \n",
            " 5   Shortness_of_breath  274702 non-null  object  \n",
            " 6   Headache             274702 non-null  object  \n",
            " 7   Corona               274702 non-null  category\n",
            " 8   Sex                  255668 non-null  category\n",
            " 9   Known_contact        274702 non-null  category\n",
            "dtypes: category(3), int64(1), object(6)\n",
            "memory usage: 17.6+ MB\n"
          ]
        }
      ]
    },
    {
      "cell_type": "markdown",
      "source": [
        "### **Explorartory Data Analysis ⚛**\n"
      ],
      "metadata": {
        "id": "ZPJxUR-iVmtH"
      }
    },
    {
      "cell_type": "code",
      "source": [
        "#Univariate Distribution Analysis\n",
        "\n",
        "#list of columns to plot\n",
        "cols = ['Cough_symptoms', 'Fever', 'Sore_throat','Shortness_of_breath','Shortness_of_breath','Headache','Corona','Sex','Known_contact']\n",
        "\n",
        "# Set up the figure with subplots\n",
        "plt.figure(figsize=(30,15))\n",
        "\n",
        "# Plot univariate distributions for each column\n",
        "for i, col in enumerate(cols, start=1):\n",
        "    plt.subplot(3,3,i)\n",
        "    sns.countplot(data=df, x=col)\n",
        "    plt.title(f'Distribution of {col}', fontsize=14)\n",
        "    plt.ylabel('Count')\n",
        "    plt.tick_params(axis='x')\n",
        "\n",
        "\n",
        "# Adjust layout for better spacing\n",
        "plt.tight_layout()\n",
        "\n",
        "# Show the plots\n",
        "plt.show()"
      ],
      "metadata": {
        "colab": {
          "base_uri": "https://localhost:8080/",
          "height": 912
        },
        "id": "fGiHAGBhY4ET",
        "outputId": "778399a7-e676-4763-d281-4a63dee3eca7"
      },
      "execution_count": 17,
      "outputs": [
        {
          "output_type": "display_data",
          "data": {
            "text/plain": [
              "<Figure size 3000x1500 with 9 Axes>"
            ],
            "image/png": "[encoded data removed]"
          },
          "metadata": {}
        }
      ]
    },
    {
      "cell_type": "code",
      "source": [
        "#Univariate Distribution Analysis\n",
        "\n",
        "#list of columns to plot\n",
        "cols = ['Cough_symptoms', 'Fever', 'Sore_throat','Shortness_of_breath','Shortness_of_breath','Headache','Sex','Known_contact']\n",
        "\n",
        "# Set up the figure with subplots\n",
        "plt.figure(figsize=(30,15))\n",
        "\n",
        "# Plot univariate distributions for each column\n",
        "for i, col in enumerate(cols, start=1):\n",
        "    plt.subplot(3,3,i)\n",
        "    sns.countplot(data=df, x=col,hue='Corona',palette=\"Set2\")\n",
        "    plt.title(f'Distribution of {col}', fontsize=14)\n",
        "    plt.ylabel('Count')\n",
        "    plt.tick_params(axis='x')\n",
        "\n",
        "\n",
        "# Adjust layout for better spacing\n",
        "plt.tight_layout()\n",
        "\n",
        "# Show the plots\n",
        "plt.show()"
      ],
      "metadata": {
        "colab": {
          "base_uri": "https://localhost:8080/",
          "height": 912
        },
        "id": "4_YL5CeEqS56",
        "outputId": "eef36ae0-a069-4113-af96-7dc679ef68ce"
      },
      "execution_count": 18,
      "outputs": [
        {
          "output_type": "display_data",
          "data": {
            "text/plain": [
              "<Figure size 3000x1500 with 8 Axes>"
            ],
            "image/png": "[encoded data removed]"
          },
          "metadata": {}
        }
      ]
    },
    {
      "cell_type": "markdown",
      "source": [
        "### **Findings 🕵**\n",
        "\n",
        "**Cough_symptoms**: A substantial proportion of individuals who tested negative\n",
        "reported no cough symptoms. However, among those with a reported cough, the number of positive cases is relatively higher.\n",
        "\n",
        "**Fever**: The majority of individuals did not report having a fever. However, among those who did, the number of positive cases is higher than negative cases.\n",
        "\n",
        "**Sore_throat**: The majority of individuals did not experience this symptom.\n",
        "\n",
        "**Shortness_of_breath** : This symptom was not common among the individuals.\n",
        "\n",
        "**Headache**: A notable number of individuals reported not having headaches.\n",
        "\n",
        "**Age_60_above**: A considerable proportion of individuals were below 60 years of age.\n",
        "\n",
        "**Sex**: The dataset shows an almost even distribution between females and males.\n",
        "\n",
        "**Known_contact**: Most individuals did not have a known contact with a confirmed case."
      ],
      "metadata": {
        "id": "jtSTscLbxTWq"
      }
    },
    {
      "cell_type": "markdown",
      "source": [
        "## **Feature Engineering ♻**"
      ],
      "metadata": {
        "id": "fferhhc_S4d7"
      }
    },
    {
      "cell_type": "code",
      "source": [
        "# creating a copy of original dataframe\n",
        "\n",
        "covid_df = df.copy(deep=True)"
      ],
      "metadata": {
        "id": "UGfb6LX5TOmt"
      },
      "execution_count": 19,
      "outputs": []
    },
    {
      "cell_type": "code",
      "source": [
        "# Encoding, without any multicolinearity\n",
        "\n",
        "covid_df['Cough_symptoms'] = pd.get_dummies(covid_df['Cough_symptoms'],drop_first=True)\n",
        "\n",
        "covid_df['Fever'] = pd.get_dummies(covid_df['Fever'],drop_first=True)\n",
        "\n",
        "covid_df['Sore_throat'] = pd.get_dummies(covid_df['Sore_throat'],drop_first=True)\n",
        "\n",
        "covid_df['Shortness_of_breath'] = pd.get_dummies(covid_df['Shortness_of_breath'],drop_first=True)\n",
        "\n",
        "covid_df['Headache'] = pd.get_dummies(covid_df['Headache'],drop_first=True)\n",
        "\n",
        "covid_df['Corona'] = pd.get_dummies(covid_df['Corona'],drop_first=True)\n",
        "\n",
        "covid_df['Sex'].replace({'male':0,'female':1},inplace=True)\n",
        "\n",
        "covid_df['Known_contact'].replace({'Other':2,'Contact with confirmed':1,'Abroad':0},inplace=True)"
      ],
      "metadata": {
        "id": "pDIvzjzbTfc3"
      },
      "execution_count": 20,
      "outputs": []
    },
    {
      "cell_type": "code",
      "source": [
        "covid_df.head()"
      ],
      "metadata": {
        "colab": {
          "base_uri": "https://localhost:8080/",
          "height": 206
        },
        "id": "WFCm_wgOTwxQ",
        "outputId": "b8b6a2a3-a438-4ee3-c35d-1d839ce9c6aa"
      },
      "execution_count": 21,
      "outputs": [
        {
          "output_type": "execute_result",
          "data": {
            "text/plain": [
              "   Ind_ID   Test_date  Cough_symptoms  Fever  Sore_throat  \\\n",
              "0       1  11-03-2020               1      0            1   \n",
              "1       2  11-03-2020               0      1            0   \n",
              "2       3  11-03-2020               0      1            0   \n",
              "3       4  11-03-2020               1      0            0   \n",
              "4       5  11-03-2020               1      0            0   \n",
              "\n",
              "   Shortness_of_breath  Headache  Corona  Sex Known_contact  \n",
              "0                    0         0       0  NaN             0  \n",
              "1                    0         0       1  NaN             0  \n",
              "2                    0         0       1  NaN             0  \n",
              "3                    0         0       0  NaN             0  \n",
              "4                    0         0       0  NaN             1  "
            ],
            "text/html": [
              "\n",
              "  <div id=\"df-54870fb6-33c0-48a3-b7a0-f62750f27d4e\" class=\"colab-df-container\">\n",
              "    <div>\n",
              "<style scoped>\n",
              "    .dataframe tbody tr th:only-of-type {\n",
              "        vertical-align: middle;\n",
              "    }\n",
              "\n",
              "    .dataframe tbody tr th {\n",
              "        vertical-align: top;\n",
              "    }\n",
              "\n",
              "    .dataframe thead th {\n",
              "        text-align: right;\n",
              "    }\n",
              "</style>\n",
              "<table border=\"1\" class=\"dataframe\">\n",
              "  <thead>\n",
              "    <tr style=\"text-align: right;\">\n",
              "      <th></th>\n",
              "      <th>Ind_ID</th>\n",
              "      <th>Test_date</th>\n",
              "      <th>Cough_symptoms</th>\n",
              "      <th>Fever</th>\n",
              "      <th>Sore_throat</th>\n",
              "      <th>Shortness_of_breath</th>\n",
              "      <th>Headache</th>\n",
              "      <th>Corona</th>\n",
              "      <th>Sex</th>\n",
              "      <th>Known_contact</th>\n",
              "    </tr>\n",
              "  </thead>\n",
              "  <tbody>\n",
              "    <tr>\n",
              "      <th>0</th>\n",
              "      <td>1</td>\n",
              "      <td>11-03-2020</td>\n",
              "      <td>1</td>\n",
              "      <td>0</td>\n",
              "      <td>1</td>\n",
              "      <td>0</td>\n",
              "      <td>0</td>\n",
              "      <td>0</td>\n",
              "      <td>NaN</td>\n",
              "      <td>0</td>\n",
              "    </tr>\n",
              "    <tr>\n",
              "      <th>1</th>\n",
              "      <td>2</td>\n",
              "      <td>11-03-2020</td>\n",
              "      <td>0</td>\n",
              "      <td>1</td>\n",
              "      <td>0</td>\n",
              "      <td>0</td>\n",
              "      <td>0</td>\n",
              "      <td>1</td>\n",
              "      <td>NaN</td>\n",
              "      <td>0</td>\n",
              "    </tr>\n",
              "    <tr>\n",
              "      <th>2</th>\n",
              "      <td>3</td>\n",
              "      <td>11-03-2020</td>\n",
              "      <td>0</td>\n",
              "      <td>1</td>\n",
              "      <td>0</td>\n",
              "      <td>0</td>\n",
              "      <td>0</td>\n",
              "      <td>1</td>\n",
              "      <td>NaN</td>\n",
              "      <td>0</td>\n",
              "    </tr>\n",
              "    <tr>\n",
              "      <th>3</th>\n",
              "      <td>4</td>\n",
              "      <td>11-03-2020</td>\n",
              "      <td>1</td>\n",
              "      <td>0</td>\n",
              "      <td>0</td>\n",
              "      <td>0</td>\n",
              "      <td>0</td>\n",
              "      <td>0</td>\n",
              "      <td>NaN</td>\n",
              "      <td>0</td>\n",
              "    </tr>\n",
              "    <tr>\n",
              "      <th>4</th>\n",
              "      <td>5</td>\n",
              "      <td>11-03-2020</td>\n",
              "      <td>1</td>\n",
              "      <td>0</td>\n",
              "      <td>0</td>\n",
              "      <td>0</td>\n",
              "      <td>0</td>\n",
              "      <td>0</td>\n",
              "      <td>NaN</td>\n",
              "      <td>1</td>\n",
              "    </tr>\n",
              "  </tbody>\n",
              "</table>\n",
              "</div>\n",
              "    <div class=\"colab-df-buttons\">\n",
              "\n",
              "  <div class=\"colab-df-container\">\n",
              "    <button class=\"colab-df-convert\" onclick=\"convertToInteractive('df-54870fb6-33c0-48a3-b7a0-f62750f27d4e')\"\n",
              "            title=\"Convert this dataframe to an interactive table.\"\n",
              "            style=\"display:none;\">\n",
              "\n",
              "  <svg xmlns=\"http://www.w3.org/2000/svg\" height=\"24px\" viewBox=\"0 -960 960 960\">\n",
              "    <path d=\"M120-120v-720h720v720H120Zm60-500h600v-160H180v160Zm220 220h160v-160H400v160Zm0 220h160v-160H400v160ZM180-400h160v-160H180v160Zm440 0h160v-160H620v160ZM180-180h160v-160H180v160Zm440 0h160v-160H620v160Z\"/>\n",
              "  </svg>\n",
              "    </button>\n",
              "\n",
              "  <style>\n",
              "    .colab-df-container {\n",
              "      display:flex;\n",
              "      gap: 12px;\n",
              "    }\n",
              "\n",
              "    .colab-df-convert {\n",
              "      background-color: #E8F0FE;\n",
              "      border: none;\n",
              "      border-radius: 50%;\n",
              "      cursor: pointer;\n",
              "      display: none;\n",
              "      fill: #1967D2;\n",
              "      height: 32px;\n",
              "      padding: 0 0 0 0;\n",
              "      width: 32px;\n",
              "    }\n",
              "\n",
              "    .colab-df-convert:hover {\n",
              "      background-color: #E2EBFA;\n",
              "      box-shadow: 0px 1px 2px rgba(60, 64, 67, 0.3), 0px 1px 3px 1px rgba(60, 64, 67, 0.15);\n",
              "      fill: #174EA6;\n",
              "    }\n",
              "\n",
              "    .colab-df-buttons div {\n",
              "      margin-bottom: 4px;\n",
              "    }\n",
              "\n",
              "    [theme=dark] .colab-df-convert {\n",
              "      background-color: #3B4455;\n",
              "      fill: #D2E3FC;\n",
              "    }\n",
              "\n",
              "    [theme=dark] .colab-df-convert:hover {\n",
              "      background-color: #434B5C;\n",
              "      box-shadow: 0px 1px 3px 1px rgba(0, 0, 0, 0.15);\n",
              "      filter: drop-shadow(0px 1px 2px rgba(0, 0, 0, 0.3));\n",
              "      fill: #FFFFFF;\n",
              "    }\n",
              "  </style>\n",
              "\n",
              "    <script>\n",
              "      const buttonEl =\n",
              "        document.querySelector('#df-54870fb6-33c0-48a3-b7a0-f62750f27d4e button.colab-df-convert');\n",
              "      buttonEl.style.display =\n",
              "        google.colab.kernel.accessAllowed ? 'block' : 'none';\n",
              "\n",
              "      async function convertToInteractive(key) {\n",
              "        const element = document.querySelector('#df-54870fb6-33c0-48a3-b7a0-f62750f27d4e');\n",
              "        const dataTable =\n",
              "          await google.colab.kernel.invokeFunction('convertToInteractive',\n",
              "                                                    [key], {});\n",
              "        if (!dataTable) return;\n",
              "\n",
              "        const docLinkHtml = 'Like what you see? Visit the ' +\n",
              "          '<a target=\"_blank\" href=https://colab.research.google.com/notebooks/data_table.ipynb>data table notebook</a>'\n",
              "          + ' to learn more about interactive tables.';\n",
              "        element.innerHTML = '';\n",
              "        dataTable['output_type'] = 'display_data';\n",
              "        await google.colab.output.renderOutput(dataTable, element);\n",
              "        const docLink = document.createElement('div');\n",
              "        docLink.innerHTML = docLinkHtml;\n",
              "        element.appendChild(docLink);\n",
              "      }\n",
              "    </script>\n",
              "  </div>\n",
              "\n",
              "\n",
              "<div id=\"df-77dfe864-bc39-46c7-934b-703a32e439ce\">\n",
              "  <button class=\"colab-df-quickchart\" onclick=\"quickchart('df-77dfe864-bc39-46c7-934b-703a32e439ce')\"\n",
              "            title=\"Suggest charts\"\n",
              "            style=\"display:none;\">\n",
              "\n",
              "<svg xmlns=\"http://www.w3.org/2000/svg\" height=\"24px\"viewBox=\"0 0 24 24\"\n",
              "     width=\"24px\">\n",
              "    <g>\n",
              "        <path d=\"M19 3H5c-1.1 0-2 .9-2 2v14c0 1.1.9 2 2 2h14c1.1 0 2-.9 2-2V5c0-1.1-.9-2-2-2zM9 17H7v-7h2v7zm4 0h-2V7h2v10zm4 0h-2v-4h2v4z\"/>\n",
              "    </g>\n",
              "</svg>\n",
              "  </button>\n",
              "\n",
              "<style>\n",
              "  .colab-df-quickchart {\n",
              "      --bg-color: #E8F0FE;\n",
              "      --fill-color: #1967D2;\n",
              "      --hover-bg-color: #E2EBFA;\n",
              "      --hover-fill-color: #174EA6;\n",
              "      --disabled-fill-color: #AAA;\n",
              "      --disabled-bg-color: #DDD;\n",
              "  }\n",
              "\n",
              "  [theme=dark] .colab-df-quickchart {\n",
              "      --bg-color: #3B4455;\n",
              "      --fill-color: #D2E3FC;\n",
              "      --hover-bg-color: #434B5C;\n",
              "      --hover-fill-color: #FFFFFF;\n",
              "      --disabled-bg-color: #3B4455;\n",
              "      --disabled-fill-color: #666;\n",
              "  }\n",
              "\n",
              "  .colab-df-quickchart {\n",
              "    background-color: var(--bg-color);\n",
              "    border: none;\n",
              "    border-radius: 50%;\n",
              "    cursor: pointer;\n",
              "    display: none;\n",
              "    fill: var(--fill-color);\n",
              "    height: 32px;\n",
              "    padding: 0;\n",
              "    width: 32px;\n",
              "  }\n",
              "\n",
              "  .colab-df-quickchart:hover {\n",
              "    background-color: var(--hover-bg-color);\n",
              "    box-shadow: 0 1px 2px rgba(60, 64, 67, 0.3), 0 1px 3px 1px rgba(60, 64, 67, 0.15);\n",
              "    fill: var(--button-hover-fill-color);\n",
              "  }\n",
              "\n",
              "  .colab-df-quickchart-complete:disabled,\n",
              "  .colab-df-quickchart-complete:disabled:hover {\n",
              "    background-color: var(--disabled-bg-color);\n",
              "    fill: var(--disabled-fill-color);\n",
              "    box-shadow: none;\n",
              "  }\n",
              "\n",
              "  .colab-df-spinner {\n",
              "    border: 2px solid var(--fill-color);\n",
              "    border-color: transparent;\n",
              "    border-bottom-color: var(--fill-color);\n",
              "    animation:\n",
              "      spin 1s steps(1) infinite;\n",
              "  }\n",
              "\n",
              "  @keyframes spin {\n",
              "    0% {\n",
              "      border-color: transparent;\n",
              "      border-bottom-color: var(--fill-color);\n",
              "      border-left-color: var(--fill-color);\n",
              "    }\n",
              "    20% {\n",
              "      border-color: transparent;\n",
              "      border-left-color: var(--fill-color);\n",
              "      border-top-color: var(--fill-color);\n",
              "    }\n",
              "    30% {\n",
              "      border-color: transparent;\n",
              "      border-left-color: var(--fill-color);\n",
              "      border-top-color: var(--fill-color);\n",
              "      border-right-color: var(--fill-color);\n",
              "    }\n",
              "    40% {\n",
              "      border-color: transparent;\n",
              "      border-right-color: var(--fill-color);\n",
              "      border-top-color: var(--fill-color);\n",
              "    }\n",
              "    60% {\n",
              "      border-color: transparent;\n",
              "      border-right-color: var(--fill-color);\n",
              "    }\n",
              "    80% {\n",
              "      border-color: transparent;\n",
              "      border-right-color: var(--fill-color);\n",
              "      border-bottom-color: var(--fill-color);\n",
              "    }\n",
              "    90% {\n",
              "      border-color: transparent;\n",
              "      border-bottom-color: var(--fill-color);\n",
              "    }\n",
              "  }\n",
              "</style>\n",
              "\n",
              "  <script>\n",
              "    async function quickchart(key) {\n",
              "      const quickchartButtonEl =\n",
              "        document.querySelector('#' + key + ' button');\n",
              "      quickchartButtonEl.disabled = true;  // To prevent multiple clicks.\n",
              "      quickchartButtonEl.classList.add('colab-df-spinner');\n",
              "      try {\n",
              "        const charts = await google.colab.kernel.invokeFunction(\n",
              "            'suggestCharts', [key], {});\n",
              "      } catch (error) {\n",
              "        console.error('Error during call to suggestCharts:', error);\n",
              "      }\n",
              "      quickchartButtonEl.classList.remove('colab-df-spinner');\n",
              "      quickchartButtonEl.classList.add('colab-df-quickchart-complete');\n",
              "    }\n",
              "    (() => {\n",
              "      let quickchartButtonEl =\n",
              "        document.querySelector('#df-77dfe864-bc39-46c7-934b-703a32e439ce button');\n",
              "      quickchartButtonEl.style.display =\n",
              "        google.colab.kernel.accessAllowed ? 'block' : 'none';\n",
              "    })();\n",
              "  </script>\n",
              "</div>\n",
              "\n",
              "    </div>\n",
              "  </div>\n"
            ]
          },
          "metadata": {},
          "execution_count": 21
        }
      ]
    },
    {
      "cell_type": "code",
      "source": [
        "covid_df.isnull().sum()"
      ],
      "metadata": {
        "colab": {
          "base_uri": "https://localhost:8080/"
        },
        "id": "6jAdhSoMa5IS",
        "outputId": "5b2e86cb-da24-4ea6-fb0b-1614f8dfd0b4"
      },
      "execution_count": 22,
      "outputs": [
        {
          "output_type": "execute_result",
          "data": {
            "text/plain": [
              "Ind_ID                     0\n",
              "Test_date                  0\n",
              "Cough_symptoms             0\n",
              "Fever                      0\n",
              "Sore_throat                0\n",
              "Shortness_of_breath        0\n",
              "Headache                   0\n",
              "Corona                     0\n",
              "Sex                    19034\n",
              "Known_contact              0\n",
              "dtype: int64"
            ]
          },
          "metadata": {},
          "execution_count": 22
        }
      ]
    },
    {
      "cell_type": "markdown",
      "source": [
        "**IMPUTATION**"
      ],
      "metadata": {
        "id": "0qNKM0R7a841"
      }
    },
    {
      "cell_type": "code",
      "source": [
        "from sklearn.impute import KNNImputer\n",
        "\n",
        "# creating a copy of original dataframe\n",
        "\n",
        "imputed_data = covid_df.copy(deep=True)"
      ],
      "metadata": {
        "id": "Jgb6TrQQa_kM"
      },
      "execution_count": 23,
      "outputs": []
    },
    {
      "cell_type": "code",
      "source": [
        "# applying KNN imputation\n",
        "\n",
        "knn=KNNImputer(n_neighbors=5,weights='uniform')\n",
        "columns=['Cough_symptoms', 'Fever', 'Sore_throat','Shortness_of_breath', 'Headache','Sex','Known_contact']\n",
        "imputed=knn.fit_transform(covid_df[columns])"
      ],
      "metadata": {
        "id": "-IUNORAXbHil"
      },
      "execution_count": 24,
      "outputs": []
    },
    {
      "cell_type": "code",
      "source": [
        "# putting it in data frame\n",
        "df1 = pd.DataFrame(imputed,columns=columns)"
      ],
      "metadata": {
        "id": "0z4u0labbMyr"
      },
      "execution_count": 25,
      "outputs": []
    },
    {
      "cell_type": "code",
      "source": [
        "def change(x):\n",
        "    if x>0.5:\n",
        "        return 1\n",
        "    elif x<0.5:\n",
        "        return 0\n",
        "    else:\n",
        "        return x"
      ],
      "metadata": {
        "id": "dV1htuLFbZZO"
      },
      "execution_count": 26,
      "outputs": []
    },
    {
      "cell_type": "code",
      "source": [
        "# inserting it into the data frame\n",
        "df1['Sex'] = df1['Sex'].apply(change)\n",
        "\n",
        "imputed_data['Sex'].iloc[:] =df1['Sex']"
      ],
      "metadata": {
        "id": "mCP1mZWmbbxt"
      },
      "execution_count": 27,
      "outputs": []
    },
    {
      "cell_type": "code",
      "source": [
        "imputed_data.head()"
      ],
      "metadata": {
        "colab": {
          "base_uri": "https://localhost:8080/",
          "height": 206
        },
        "id": "xzFHzyvBbqOO",
        "outputId": "eda2a964-a411-4688-c4d0-3807055f5818"
      },
      "execution_count": 28,
      "outputs": [
        {
          "output_type": "execute_result",
          "data": {
            "text/plain": [
              "   Ind_ID   Test_date  Cough_symptoms  Fever  Sore_throat  \\\n",
              "0       1  11-03-2020               1      0            1   \n",
              "1       2  11-03-2020               0      1            0   \n",
              "2       3  11-03-2020               0      1            0   \n",
              "3       4  11-03-2020               1      0            0   \n",
              "4       5  11-03-2020               1      0            0   \n",
              "\n",
              "   Shortness_of_breath  Headache  Corona Sex Known_contact  \n",
              "0                    0         0       0   0             0  \n",
              "1                    0         0       1   0             0  \n",
              "2                    0         0       1   0             0  \n",
              "3                    0         0       0   0             0  \n",
              "4                    0         0       0   0             1  "
            ],
            "text/html": [
              "\n",
              "  <div id=\"df-20b1267a-58e6-4aaf-a50b-735fafe73e84\" class=\"colab-df-container\">\n",
              "    <div>\n",
              "<style scoped>\n",
              "    .dataframe tbody tr th:only-of-type {\n",
              "        vertical-align: middle;\n",
              "    }\n",
              "\n",
              "    .dataframe tbody tr th {\n",
              "        vertical-align: top;\n",
              "    }\n",
              "\n",
              "    .dataframe thead th {\n",
              "        text-align: right;\n",
              "    }\n",
              "</style>\n",
              "<table border=\"1\" class=\"dataframe\">\n",
              "  <thead>\n",
              "    <tr style=\"text-align: right;\">\n",
              "      <th></th>\n",
              "      <th>Ind_ID</th>\n",
              "      <th>Test_date</th>\n",
              "      <th>Cough_symptoms</th>\n",
              "      <th>Fever</th>\n",
              "      <th>Sore_throat</th>\n",
              "      <th>Shortness_of_breath</th>\n",
              "      <th>Headache</th>\n",
              "      <th>Corona</th>\n",
              "      <th>Sex</th>\n",
              "      <th>Known_contact</th>\n",
              "    </tr>\n",
              "  </thead>\n",
              "  <tbody>\n",
              "    <tr>\n",
              "      <th>0</th>\n",
              "      <td>1</td>\n",
              "      <td>11-03-2020</td>\n",
              "      <td>1</td>\n",
              "      <td>0</td>\n",
              "      <td>1</td>\n",
              "      <td>0</td>\n",
              "      <td>0</td>\n",
              "      <td>0</td>\n",
              "      <td>0</td>\n",
              "      <td>0</td>\n",
              "    </tr>\n",
              "    <tr>\n",
              "      <th>1</th>\n",
              "      <td>2</td>\n",
              "      <td>11-03-2020</td>\n",
              "      <td>0</td>\n",
              "      <td>1</td>\n",
              "      <td>0</td>\n",
              "      <td>0</td>\n",
              "      <td>0</td>\n",
              "      <td>1</td>\n",
              "      <td>0</td>\n",
              "      <td>0</td>\n",
              "    </tr>\n",
              "    <tr>\n",
              "      <th>2</th>\n",
              "      <td>3</td>\n",
              "      <td>11-03-2020</td>\n",
              "      <td>0</td>\n",
              "      <td>1</td>\n",
              "      <td>0</td>\n",
              "      <td>0</td>\n",
              "      <td>0</td>\n",
              "      <td>1</td>\n",
              "      <td>0</td>\n",
              "      <td>0</td>\n",
              "    </tr>\n",
              "    <tr>\n",
              "      <th>3</th>\n",
              "      <td>4</td>\n",
              "      <td>11-03-2020</td>\n",
              "      <td>1</td>\n",
              "      <td>0</td>\n",
              "      <td>0</td>\n",
              "      <td>0</td>\n",
              "      <td>0</td>\n",
              "      <td>0</td>\n",
              "      <td>0</td>\n",
              "      <td>0</td>\n",
              "    </tr>\n",
              "    <tr>\n",
              "      <th>4</th>\n",
              "      <td>5</td>\n",
              "      <td>11-03-2020</td>\n",
              "      <td>1</td>\n",
              "      <td>0</td>\n",
              "      <td>0</td>\n",
              "      <td>0</td>\n",
              "      <td>0</td>\n",
              "      <td>0</td>\n",
              "      <td>0</td>\n",
              "      <td>1</td>\n",
              "    </tr>\n",
              "  </tbody>\n",
              "</table>\n",
              "</div>\n",
              "    <div class=\"colab-df-buttons\">\n",
              "\n",
              "  <div class=\"colab-df-container\">\n",
              "    <button class=\"colab-df-convert\" onclick=\"convertToInteractive('df-20b1267a-58e6-4aaf-a50b-735fafe73e84')\"\n",
              "            title=\"Convert this dataframe to an interactive table.\"\n",
              "            style=\"display:none;\">\n",
              "\n",
              "  <svg xmlns=\"http://www.w3.org/2000/svg\" height=\"24px\" viewBox=\"0 -960 960 960\">\n",
              "    <path d=\"M120-120v-720h720v720H120Zm60-500h600v-160H180v160Zm220 220h160v-160H400v160Zm0 220h160v-160H400v160ZM180-400h160v-160H180v160Zm440 0h160v-160H620v160ZM180-180h160v-160H180v160Zm440 0h160v-160H620v160Z\"/>\n",
              "  </svg>\n",
              "    </button>\n",
              "\n",
              "  <style>\n",
              "    .colab-df-container {\n",
              "      display:flex;\n",
              "      gap: 12px;\n",
              "    }\n",
              "\n",
              "    .colab-df-convert {\n",
              "      background-color: #E8F0FE;\n",
              "      border: none;\n",
              "      border-radius: 50%;\n",
              "      cursor: pointer;\n",
              "      display: none;\n",
              "      fill: #1967D2;\n",
              "      height: 32px;\n",
              "      padding: 0 0 0 0;\n",
              "      width: 32px;\n",
              "    }\n",
              "\n",
              "    .colab-df-convert:hover {\n",
              "      background-color: #E2EBFA;\n",
              "      box-shadow: 0px 1px 2px rgba(60, 64, 67, 0.3), 0px 1px 3px 1px rgba(60, 64, 67, 0.15);\n",
              "      fill: #174EA6;\n",
              "    }\n",
              "\n",
              "    .colab-df-buttons div {\n",
              "      margin-bottom: 4px;\n",
              "    }\n",
              "\n",
              "    [theme=dark] .colab-df-convert {\n",
              "      background-color: #3B4455;\n",
              "      fill: #D2E3FC;\n",
              "    }\n",
              "\n",
              "    [theme=dark] .colab-df-convert:hover {\n",
              "      background-color: #434B5C;\n",
              "      box-shadow: 0px 1px 3px 1px rgba(0, 0, 0, 0.15);\n",
              "      filter: drop-shadow(0px 1px 2px rgba(0, 0, 0, 0.3));\n",
              "      fill: #FFFFFF;\n",
              "    }\n",
              "  </style>\n",
              "\n",
              "    <script>\n",
              "      const buttonEl =\n",
              "        document.querySelector('#df-20b1267a-58e6-4aaf-a50b-735fafe73e84 button.colab-df-convert');\n",
              "      buttonEl.style.display =\n",
              "        google.colab.kernel.accessAllowed ? 'block' : 'none';\n",
              "\n",
              "      async function convertToInteractive(key) {\n",
              "        const element = document.querySelector('#df-20b1267a-58e6-4aaf-a50b-735fafe73e84');\n",
              "        const dataTable =\n",
              "          await google.colab.kernel.invokeFunction('convertToInteractive',\n",
              "                                                    [key], {});\n",
              "        if (!dataTable) return;\n",
              "\n",
              "        const docLinkHtml = 'Like what you see? Visit the ' +\n",
              "          '<a target=\"_blank\" href=https://colab.research.google.com/notebooks/data_table.ipynb>data table notebook</a>'\n",
              "          + ' to learn more about interactive tables.';\n",
              "        element.innerHTML = '';\n",
              "        dataTable['output_type'] = 'display_data';\n",
              "        await google.colab.output.renderOutput(dataTable, element);\n",
              "        const docLink = document.createElement('div');\n",
              "        docLink.innerHTML = docLinkHtml;\n",
              "        element.appendChild(docLink);\n",
              "      }\n",
              "    </script>\n",
              "  </div>\n",
              "\n",
              "\n",
              "<div id=\"df-35739f21-03cb-4671-b1a6-82f96932bd26\">\n",
              "  <button class=\"colab-df-quickchart\" onclick=\"quickchart('df-35739f21-03cb-4671-b1a6-82f96932bd26')\"\n",
              "            title=\"Suggest charts\"\n",
              "            style=\"display:none;\">\n",
              "\n",
              "<svg xmlns=\"http://www.w3.org/2000/svg\" height=\"24px\"viewBox=\"0 0 24 24\"\n",
              "     width=\"24px\">\n",
              "    <g>\n",
              "        <path d=\"M19 3H5c-1.1 0-2 .9-2 2v14c0 1.1.9 2 2 2h14c1.1 0 2-.9 2-2V5c0-1.1-.9-2-2-2zM9 17H7v-7h2v7zm4 0h-2V7h2v10zm4 0h-2v-4h2v4z\"/>\n",
              "    </g>\n",
              "</svg>\n",
              "  </button>\n",
              "\n",
              "<style>\n",
              "  .colab-df-quickchart {\n",
              "      --bg-color: #E8F0FE;\n",
              "      --fill-color: #1967D2;\n",
              "      --hover-bg-color: #E2EBFA;\n",
              "      --hover-fill-color: #174EA6;\n",
              "      --disabled-fill-color: #AAA;\n",
              "      --disabled-bg-color: #DDD;\n",
              "  }\n",
              "\n",
              "  [theme=dark] .colab-df-quickchart {\n",
              "      --bg-color: #3B4455;\n",
              "      --fill-color: #D2E3FC;\n",
              "      --hover-bg-color: #434B5C;\n",
              "      --hover-fill-color: #FFFFFF;\n",
              "      --disabled-bg-color: #3B4455;\n",
              "      --disabled-fill-color: #666;\n",
              "  }\n",
              "\n",
              "  .colab-df-quickchart {\n",
              "    background-color: var(--bg-color);\n",
              "    border: none;\n",
              "    border-radius: 50%;\n",
              "    cursor: pointer;\n",
              "    display: none;\n",
              "    fill: var(--fill-color);\n",
              "    height: 32px;\n",
              "    padding: 0;\n",
              "    width: 32px;\n",
              "  }\n",
              "\n",
              "  .colab-df-quickchart:hover {\n",
              "    background-color: var(--hover-bg-color);\n",
              "    box-shadow: 0 1px 2px rgba(60, 64, 67, 0.3), 0 1px 3px 1px rgba(60, 64, 67, 0.15);\n",
              "    fill: var(--button-hover-fill-color);\n",
              "  }\n",
              "\n",
              "  .colab-df-quickchart-complete:disabled,\n",
              "  .colab-df-quickchart-complete:disabled:hover {\n",
              "    background-color: var(--disabled-bg-color);\n",
              "    fill: var(--disabled-fill-color);\n",
              "    box-shadow: none;\n",
              "  }\n",
              "\n",
              "  .colab-df-spinner {\n",
              "    border: 2px solid var(--fill-color);\n",
              "    border-color: transparent;\n",
              "    border-bottom-color: var(--fill-color);\n",
              "    animation:\n",
              "      spin 1s steps(1) infinite;\n",
              "  }\n",
              "\n",
              "  @keyframes spin {\n",
              "    0% {\n",
              "      border-color: transparent;\n",
              "      border-bottom-color: var(--fill-color);\n",
              "      border-left-color: var(--fill-color);\n",
              "    }\n",
              "    20% {\n",
              "      border-color: transparent;\n",
              "      border-left-color: var(--fill-color);\n",
              "      border-top-color: var(--fill-color);\n",
              "    }\n",
              "    30% {\n",
              "      border-color: transparent;\n",
              "      border-left-color: var(--fill-color);\n",
              "      border-top-color: var(--fill-color);\n",
              "      border-right-color: var(--fill-color);\n",
              "    }\n",
              "    40% {\n",
              "      border-color: transparent;\n",
              "      border-right-color: var(--fill-color);\n",
              "      border-top-color: var(--fill-color);\n",
              "    }\n",
              "    60% {\n",
              "      border-color: transparent;\n",
              "      border-right-color: var(--fill-color);\n",
              "    }\n",
              "    80% {\n",
              "      border-color: transparent;\n",
              "      border-right-color: var(--fill-color);\n",
              "      border-bottom-color: var(--fill-color);\n",
              "    }\n",
              "    90% {\n",
              "      border-color: transparent;\n",
              "      border-bottom-color: var(--fill-color);\n",
              "    }\n",
              "  }\n",
              "</style>\n",
              "\n",
              "  <script>\n",
              "    async function quickchart(key) {\n",
              "      const quickchartButtonEl =\n",
              "        document.querySelector('#' + key + ' button');\n",
              "      quickchartButtonEl.disabled = true;  // To prevent multiple clicks.\n",
              "      quickchartButtonEl.classList.add('colab-df-spinner');\n",
              "      try {\n",
              "        const charts = await google.colab.kernel.invokeFunction(\n",
              "            'suggestCharts', [key], {});\n",
              "      } catch (error) {\n",
              "        console.error('Error during call to suggestCharts:', error);\n",
              "      }\n",
              "      quickchartButtonEl.classList.remove('colab-df-spinner');\n",
              "      quickchartButtonEl.classList.add('colab-df-quickchart-complete');\n",
              "    }\n",
              "    (() => {\n",
              "      let quickchartButtonEl =\n",
              "        document.querySelector('#df-35739f21-03cb-4671-b1a6-82f96932bd26 button');\n",
              "      quickchartButtonEl.style.display =\n",
              "        google.colab.kernel.accessAllowed ? 'block' : 'none';\n",
              "    })();\n",
              "  </script>\n",
              "</div>\n",
              "\n",
              "    </div>\n",
              "  </div>\n"
            ]
          },
          "metadata": {},
          "execution_count": 28
        }
      ]
    },
    {
      "cell_type": "code",
      "source": [
        "imputed_data.info()"
      ],
      "metadata": {
        "colab": {
          "base_uri": "https://localhost:8080/"
        },
        "id": "S9ECh1Bfb4xM",
        "outputId": "e37f5c1c-c673-43d8-c7a8-d47aa978c3ac"
      },
      "execution_count": 29,
      "outputs": [
        {
          "output_type": "stream",
          "name": "stdout",
          "text": [
            "<class 'pandas.core.frame.DataFrame'>\n",
            "Int64Index: 274702 entries, 0 to 278847\n",
            "Data columns (total 10 columns):\n",
            " #   Column               Non-Null Count   Dtype   \n",
            "---  ------               --------------   -----   \n",
            " 0   Ind_ID               274702 non-null  int64   \n",
            " 1   Test_date            274702 non-null  object  \n",
            " 2   Cough_symptoms       274702 non-null  uint8   \n",
            " 3   Fever                274702 non-null  uint8   \n",
            " 4   Sore_throat          274702 non-null  uint8   \n",
            " 5   Shortness_of_breath  274702 non-null  uint8   \n",
            " 6   Headache             274702 non-null  uint8   \n",
            " 7   Corona               274702 non-null  uint8   \n",
            " 8   Sex                  274702 non-null  category\n",
            " 9   Known_contact        274702 non-null  category\n",
            "dtypes: category(2), int64(1), object(1), uint8(6)\n",
            "memory usage: 8.4+ MB\n"
          ]
        }
      ]
    },
    {
      "cell_type": "code",
      "source": [
        "# storing data in final df\n",
        "\n",
        "final_data = imputed_data.astype('category')"
      ],
      "metadata": {
        "id": "15n2LKPTch3W"
      },
      "execution_count": 30,
      "outputs": []
    },
    {
      "cell_type": "markdown",
      "source": [
        "### **Cross validation technique**"
      ],
      "metadata": {
        "id": "9ZZMm-P1dCuj"
      }
    },
    {
      "cell_type": "code",
      "source": [
        "# separating features and target variable\n",
        "\n",
        "features = final_data.drop(['Ind_ID','Test_date','Corona'],axis=1)\n",
        "\n",
        "target = final_data['Corona']"
      ],
      "metadata": {
        "id": "YSND29n-dCXm"
      },
      "execution_count": 31,
      "outputs": []
    },
    {
      "cell_type": "code",
      "source": [
        "# feature selection\n",
        "\n",
        "from sklearn.feature_selection import RFE\n",
        "from sklearn.ensemble import RandomForestClassifier\n",
        "# Assuming 'features' is your feature matrix and 'target' is your target variable\n",
        "\n",
        "# Initialize a classifier (you can use any classifier)\n",
        "classifier = RandomForestClassifier(n_estimators=100)\n",
        "\n",
        "# Initialize RFE with the classifier and the number of features to select\n",
        "selector = RFE(classifier, n_features_to_select=6)\n",
        "\n",
        "# Fit RFE and transform the features\n",
        "X_new = selector.fit_transform(features, target)\n",
        "\n",
        "# Get the indices of the selected features\n",
        "idxs_selected = selector.get_support(indices=True)\n",
        "\n",
        "# Get the names of the selected features\n",
        "feat_names = features.columns[idxs_selected]\n",
        "\n",
        "# Print or use the selected feature names\n",
        "print(feat_names)\n"
      ],
      "metadata": {
        "colab": {
          "base_uri": "https://localhost:8080/"
        },
        "id": "RpLi-Ow-dkub",
        "outputId": "2e0ea3e7-feba-4821-a843-32f83ed08720"
      },
      "execution_count": 32,
      "outputs": [
        {
          "output_type": "stream",
          "name": "stdout",
          "text": [
            "Index(['Cough_symptoms', 'Fever', 'Sore_throat', 'Shortness_of_breath',\n",
            "       'Headache', 'Known_contact'],\n",
            "      dtype='object')\n"
          ]
        }
      ]
    },
    {
      "cell_type": "markdown",
      "source": [
        "from this we can conclude that symptoms are important features present in the data set ,which also supports our initial hypothesis statement."
      ],
      "metadata": {
        "id": "iICyauGFe87W"
      }
    },
    {
      "cell_type": "code",
      "source": [
        "# spltting data to train and test as per the projects instruction (4:1)\n",
        "\n",
        "from sklearn.model_selection import train_test_split\n",
        "\n",
        "x_train,x_test,y_train,y_test = train_test_split(features,target,test_size=0.2,random_state=0)\n"
      ],
      "metadata": {
        "id": "HlwEFiaufc2P"
      },
      "execution_count": 33,
      "outputs": []
    },
    {
      "cell_type": "code",
      "source": [
        "y_test.value_counts()"
      ],
      "metadata": {
        "colab": {
          "base_uri": "https://localhost:8080/"
        },
        "id": "6FHFqS4ifqkI",
        "outputId": "9b8a17ac-1f94-41c4-e13e-506f9bec75f3"
      },
      "execution_count": 34,
      "outputs": [
        {
          "output_type": "execute_result",
          "data": {
            "text/plain": [
              "0    52024\n",
              "1     2917\n",
              "Name: Corona, dtype: int64"
            ]
          },
          "metadata": {},
          "execution_count": 34
        }
      ]
    },
    {
      "cell_type": "markdown",
      "source": [
        "# **Model training 🎯**"
      ],
      "metadata": {
        "id": "S9t_jLPogY8W"
      }
    },
    {
      "cell_type": "code",
      "source": [
        "from sklearn.ensemble import RandomForestClassifier\n",
        "from sklearn.tree import DecisionTreeClassifier\n",
        "from sklearn.naive_bayes import GaussianNB\n",
        "from sklearn.svm import SVC\n",
        "from sklearn.ensemble import AdaBoostClassifier\n",
        "\n",
        "from sklearn.model_selection import GridSearchCV\n",
        "from sklearn.metrics import accuracy_score, make_scorer, recall_score,precision_score,f1_score,roc_curve, auc, confusion_matrix\n"
      ],
      "metadata": {
        "id": "OUdI-pi1g154"
      },
      "execution_count": 35,
      "outputs": []
    },
    {
      "cell_type": "code",
      "source": [
        "# Model Training\n",
        "models = {\n",
        "    \"RandomForest\": RandomForestClassifier(),\n",
        "    \"DecisionTree\": DecisionTreeClassifier(),\n",
        "    \"SVM\": SVC(),\n",
        "    \"AdaBoost\": AdaBoostClassifier(),\n",
        "}\n",
        "\n",
        "# Hyperparameter Tuning using GridSearchCV\n",
        "param_grid = {\n",
        "    'RandomForest': {\n",
        "        'n_estimators': [50, 100, 200],\n",
        "        'max_depth': [None, 10, 20],\n",
        "    },\n",
        "    'DecisionTree': {\n",
        "        'max_depth': [None, 10, 20],\n",
        "    },\n",
        "    'SVM': {\n",
        "        'C': [0.1, 1, 10],\n",
        "        'kernel': ['linear', 'rbf'],\n",
        "    },\n",
        "    'AdaBoost': {\n",
        "        'n_estimators': [50, 100, 200],\n",
        "        'learning_rate': [0.01, 0.1, 1],\n",
        "    },\n",
        "}\n",
        "\n",
        "best_models = {}\n",
        "\n",
        "# RandomForest\n",
        "rf_model = RandomForestClassifier()\n",
        "rf_grid_search = GridSearchCV(rf_model, param_grid['RandomForest'], scoring='accuracy', cv=5, n_jobs=-1)\n",
        "rf_grid_search.fit(x_train, y_train)\n",
        "best_models['RandomForest'] = rf_grid_search.best_estimator_\n",
        "\n",
        "# DecisionTree\n",
        "dt_model = DecisionTreeClassifier()\n",
        "dt_grid_search = GridSearchCV(dt_model, param_grid['DecisionTree'], scoring='accuracy', cv=5, n_jobs=-1)\n",
        "dt_grid_search.fit(x_train, y_train)\n",
        "best_models['DecisionTree'] = dt_grid_search.best_estimator_\n",
        "\n",
        "# SVM\n",
        "svm_model = SVC()\n",
        "svm_grid_search = GridSearchCV(svm_model, param_grid['SVM'], scoring='accuracy', cv=5, n_jobs=-1)\n",
        "svm_grid_search.fit(x_train, y_train)\n",
        "best_models['SVM'] = svm_grid_search.best_estimator_\n",
        "\n",
        "# AdaBoost\n",
        "ada_model = AdaBoostClassifier()\n",
        "ada_grid_search = GridSearchCV(ada_model, param_grid['AdaBoost'], scoring='accuracy', cv=5, n_jobs=-1)\n",
        "ada_grid_search.fit(x_train, y_train)\n",
        "best_models['AdaBoost'] = ada_grid_search.best_estimator_\n",
        "\n",
        "# Evaluate and compare models\n",
        "for model_name, best_model in best_models.items():\n",
        "    y_pred = best_model.predict(x_test)\n",
        "    print(f\"\\nEvaluation Metrics for {model_name}:\")\n",
        "    print(f\"Best Parameters: {best_model.get_params()}\")\n",
        "    print(f\"Accuracy: {accuracy_score(y_test, y_pred)}\")\n",
        "    print(f\"Precision: {precision_score(y_test, y_pred)}\")\n",
        "    print(f\"Recall: {recall_score(y_test, y_pred)}\")\n",
        "    print(f\"F1 Score: {f1_score(y_test, y_pred)}\")\n",
        "    print(\"Confusion Matrix:\")\n",
        "    print(confusion_matrix(y_test, y_pred))\n",
        "    print(\"\\n\")\n",
        "\n",
        "# Compare the best models\n",
        "best_models_accuracy = {model_name: accuracy_score(y_test, model.predict(x_test)) for model_name, model in best_models.items()}\n",
        "best_accuracy_model = max(best_models_accuracy, key=best_models_accuracy.get)\n",
        "print(f\"The best model based on accuracy is: {best_accuracy_model}\")"
      ],
      "metadata": {
        "colab": {
          "base_uri": "https://localhost:8080/"
        },
        "id": "j5pQotyqiY3E",
        "outputId": "46d54e29-a612-45f5-8331-d5d2a6414be3"
      },
      "execution_count": 36,
      "outputs": [
        {
          "output_type": "stream",
          "name": "stdout",
          "text": [
            "\n",
            "Evaluation Metrics for RandomForest:\n",
            "Best Parameters: {'bootstrap': True, 'ccp_alpha': 0.0, 'class_weight': None, 'criterion': 'gini', 'max_depth': None, 'max_features': 'sqrt', 'max_leaf_nodes': None, 'max_samples': None, 'min_impurity_decrease': 0.0, 'min_samples_leaf': 1, 'min_samples_split': 2, 'min_weight_fraction_leaf': 0.0, 'n_estimators': 50, 'n_jobs': None, 'oob_score': False, 'random_state': None, 'verbose': 0, 'warm_start': False}\n",
            "Accuracy: 0.967583407655485\n",
            "Precision: 0.7644320297951583\n",
            "Recall: 0.5629070963318478\n",
            "F1 Score: 0.6483711747285291\n",
            "Confusion Matrix:\n",
            "[[51518   506]\n",
            " [ 1275  1642]]\n",
            "\n",
            "\n",
            "\n",
            "Evaluation Metrics for DecisionTree:\n",
            "Best Parameters: {'ccp_alpha': 0.0, 'class_weight': None, 'criterion': 'gini', 'max_depth': None, 'max_features': None, 'max_leaf_nodes': None, 'min_impurity_decrease': 0.0, 'min_samples_leaf': 1, 'min_samples_split': 2, 'min_weight_fraction_leaf': 0.0, 'random_state': None, 'splitter': 'best'}\n",
            "Accuracy: 0.9674924009391893\n",
            "Precision: 0.7643758765778401\n",
            "Recall: 0.5605073705862187\n",
            "F1 Score: 0.646756329113924\n",
            "Confusion Matrix:\n",
            "[[51520   504]\n",
            " [ 1282  1635]]\n",
            "\n",
            "\n",
            "\n",
            "Evaluation Metrics for SVM:\n",
            "Best Parameters: {'C': 1, 'break_ties': False, 'cache_size': 200, 'class_weight': None, 'coef0': 0.0, 'decision_function_shape': 'ovr', 'degree': 3, 'gamma': 'scale', 'kernel': 'rbf', 'max_iter': -1, 'probability': False, 'random_state': None, 'shrinking': True, 'tol': 0.001, 'verbose': False}\n",
            "Accuracy: 0.967455998252671\n",
            "Precision: 0.7966368891224382\n",
            "Recall: 0.5197120329105245\n",
            "F1 Score: 0.629045643153527\n",
            "Confusion Matrix:\n",
            "[[51637   387]\n",
            " [ 1401  1516]]\n",
            "\n",
            "\n",
            "\n",
            "Evaluation Metrics for AdaBoost:\n",
            "Best Parameters: {'algorithm': 'SAMME.R', 'base_estimator': 'deprecated', 'estimator': None, 'learning_rate': 0.1, 'n_estimators': 200, 'random_state': None}\n",
            "Accuracy: 0.9593017964725796\n",
            "Precision: 0.8227488151658767\n",
            "Recall: 0.2975659924580048\n",
            "F1 Score: 0.43705941591137965\n",
            "Confusion Matrix:\n",
            "[[51837   187]\n",
            " [ 2049   868]]\n",
            "\n",
            "\n",
            "The best model based on accuracy is: RandomForest\n"
          ]
        }
      ]
    },
    {
      "cell_type": "markdown",
      "source": [
        "# **Justification:**\n",
        "\n",
        "**Accuracy:** RandomForest (96.76%) and DecisionTree (96.75%) are very close, with RandomForest slightly ahead.\n",
        "\n",
        "**Precision:** AdaBoost (82.27%) has the highest precision, indicating a better ability to correctly identify positive cases.\n",
        "\n",
        "**Recall:** RandomForest (56.39%) and DecisionTree (56.05%) have similar recall, outperforming AdaBoost (29.76%).\n",
        "\n",
        "**F1 Score:** RandomForest (64.89%) has the highest F1 score, balancing precision and recall well.\n",
        "\n",
        "## **Conclusion:**\n",
        "\n",
        "**RandomForest appears to be the better model overall**  offering a good balance between precision, recall, and accuracy.\n",
        "DecisionTree is similar but slightly behind in terms of F1 score.\n",
        "AdaBoost has high precision but significantly lower recall, indicating it might not perform as well in capturing all positive cases."
      ],
      "metadata": {
        "id": "kMVlGOc3yKB9"
      }
    },
    {
      "cell_type": "markdown",
      "source": [
        "# **SQL 🔎**"
      ],
      "metadata": {
        "id": "d3-qaoW_sEzq"
      }
    },
    {
      "cell_type": "code",
      "source": [
        "cleaned_data=final_data"
      ],
      "metadata": {
        "id": "73SNs-jEszMr"
      },
      "execution_count": 37,
      "outputs": []
    },
    {
      "cell_type": "code",
      "source": [
        "import duckdb\n",
        "\n",
        "# Connect to DuckDB\n",
        "conn= duckdb.connect()\n",
        "\n",
        "conn.register(\"df\",cleaned_data)\n",
        "\n",
        "conn.execute(\"select * from df\").fetchdf()"
      ],
      "metadata": {
        "colab": {
          "base_uri": "https://localhost:8080/",
          "height": 424
        },
        "id": "SfX3i8yDspOe",
        "outputId": "7cfa424f-12a6-45c1-9cac-45c2553de6d7"
      },
      "execution_count": 38,
      "outputs": [
        {
          "output_type": "execute_result",
          "data": {
            "text/plain": [
              "        Ind_ID   Test_date  Cough_symptoms  Fever  Sore_throat  \\\n",
              "0            1  11-03-2020               1      0            1   \n",
              "1            2  11-03-2020               0      1            0   \n",
              "2            3  11-03-2020               0      1            0   \n",
              "3            4  11-03-2020               1      0            0   \n",
              "4            5  11-03-2020               1      0            0   \n",
              "...        ...         ...             ...    ...          ...   \n",
              "274697  278844  30-04-2020               0      0            0   \n",
              "274698  278845  30-04-2020               0      0            0   \n",
              "274699  278846  30-04-2020               0      0            0   \n",
              "274700  278847  30-04-2020               0      0            0   \n",
              "274701  278848  30-04-2020               0      0            0   \n",
              "\n",
              "        Shortness_of_breath  Headache  Corona  Sex  Known_contact  \n",
              "0                         0         0       0    0              0  \n",
              "1                         0         0       1    0              0  \n",
              "2                         0         0       1    0              0  \n",
              "3                         0         0       0    0              0  \n",
              "4                         0         0       0    0              1  \n",
              "...                     ...       ...     ...  ...            ...  \n",
              "274697                    0         0       1    0              2  \n",
              "274698                    0         0       0    1              2  \n",
              "274699                    0         0       0    0              2  \n",
              "274700                    0         0       0    0              2  \n",
              "274701                    0         0       0    1              2  \n",
              "\n",
              "[274702 rows x 10 columns]"
            ],
            "text/html": [
              "\n",
              "  <div id=\"df-45152866-3f42-42d5-8177-463f16730063\" class=\"colab-df-container\">\n",
              "    <div>\n",
              "<style scoped>\n",
              "    .dataframe tbody tr th:only-of-type {\n",
              "        vertical-align: middle;\n",
              "    }\n",
              "\n",
              "    .dataframe tbody tr th {\n",
              "        vertical-align: top;\n",
              "    }\n",
              "\n",
              "    .dataframe thead th {\n",
              "        text-align: right;\n",
              "    }\n",
              "</style>\n",
              "<table border=\"1\" class=\"dataframe\">\n",
              "  <thead>\n",
              "    <tr style=\"text-align: right;\">\n",
              "      <th></th>\n",
              "      <th>Ind_ID</th>\n",
              "      <th>Test_date</th>\n",
              "      <th>Cough_symptoms</th>\n",
              "      <th>Fever</th>\n",
              "      <th>Sore_throat</th>\n",
              "      <th>Shortness_of_breath</th>\n",
              "      <th>Headache</th>\n",
              "      <th>Corona</th>\n",
              "      <th>Sex</th>\n",
              "      <th>Known_contact</th>\n",
              "    </tr>\n",
              "  </thead>\n",
              "  <tbody>\n",
              "    <tr>\n",
              "      <th>0</th>\n",
              "      <td>1</td>\n",
              "      <td>11-03-2020</td>\n",
              "      <td>1</td>\n",
              "      <td>0</td>\n",
              "      <td>1</td>\n",
              "      <td>0</td>\n",
              "      <td>0</td>\n",
              "      <td>0</td>\n",
              "      <td>0</td>\n",
              "      <td>0</td>\n",
              "    </tr>\n",
              "    <tr>\n",
              "      <th>1</th>\n",
              "      <td>2</td>\n",
              "      <td>11-03-2020</td>\n",
              "      <td>0</td>\n",
              "      <td>1</td>\n",
              "      <td>0</td>\n",
              "      <td>0</td>\n",
              "      <td>0</td>\n",
              "      <td>1</td>\n",
              "      <td>0</td>\n",
              "      <td>0</td>\n",
              "    </tr>\n",
              "    <tr>\n",
              "      <th>2</th>\n",
              "      <td>3</td>\n",
              "      <td>11-03-2020</td>\n",
              "      <td>0</td>\n",
              "      <td>1</td>\n",
              "      <td>0</td>\n",
              "      <td>0</td>\n",
              "      <td>0</td>\n",
              "      <td>1</td>\n",
              "      <td>0</td>\n",
              "      <td>0</td>\n",
              "    </tr>\n",
              "    <tr>\n",
              "      <th>3</th>\n",
              "      <td>4</td>\n",
              "      <td>11-03-2020</td>\n",
              "      <td>1</td>\n",
              "      <td>0</td>\n",
              "      <td>0</td>\n",
              "      <td>0</td>\n",
              "      <td>0</td>\n",
              "      <td>0</td>\n",
              "      <td>0</td>\n",
              "      <td>0</td>\n",
              "    </tr>\n",
              "    <tr>\n",
              "      <th>4</th>\n",
              "      <td>5</td>\n",
              "      <td>11-03-2020</td>\n",
              "      <td>1</td>\n",
              "      <td>0</td>\n",
              "      <td>0</td>\n",
              "      <td>0</td>\n",
              "      <td>0</td>\n",
              "      <td>0</td>\n",
              "      <td>0</td>\n",
              "      <td>1</td>\n",
              "    </tr>\n",
              "    <tr>\n",
              "      <th>...</th>\n",
              "      <td>...</td>\n",
              "      <td>...</td>\n",
              "      <td>...</td>\n",
              "      <td>...</td>\n",
              "      <td>...</td>\n",
              "      <td>...</td>\n",
              "      <td>...</td>\n",
              "      <td>...</td>\n",
              "      <td>...</td>\n",
              "      <td>...</td>\n",
              "    </tr>\n",
              "    <tr>\n",
              "      <th>274697</th>\n",
              "      <td>278844</td>\n",
              "      <td>30-04-2020</td>\n",
              "      <td>0</td>\n",
              "      <td>0</td>\n",
              "      <td>0</td>\n",
              "      <td>0</td>\n",
              "      <td>0</td>\n",
              "      <td>1</td>\n",
              "      <td>0</td>\n",
              "      <td>2</td>\n",
              "    </tr>\n",
              "    <tr>\n",
              "      <th>274698</th>\n",
              "      <td>278845</td>\n",
              "      <td>30-04-2020</td>\n",
              "      <td>0</td>\n",
              "      <td>0</td>\n",
              "      <td>0</td>\n",
              "      <td>0</td>\n",
              "      <td>0</td>\n",
              "      <td>0</td>\n",
              "      <td>1</td>\n",
              "      <td>2</td>\n",
              "    </tr>\n",
              "    <tr>\n",
              "      <th>274699</th>\n",
              "      <td>278846</td>\n",
              "      <td>30-04-2020</td>\n",
              "      <td>0</td>\n",
              "      <td>0</td>\n",
              "      <td>0</td>\n",
              "      <td>0</td>\n",
              "      <td>0</td>\n",
              "      <td>0</td>\n",
              "      <td>0</td>\n",
              "      <td>2</td>\n",
              "    </tr>\n",
              "    <tr>\n",
              "      <th>274700</th>\n",
              "      <td>278847</td>\n",
              "      <td>30-04-2020</td>\n",
              "      <td>0</td>\n",
              "      <td>0</td>\n",
              "      <td>0</td>\n",
              "      <td>0</td>\n",
              "      <td>0</td>\n",
              "      <td>0</td>\n",
              "      <td>0</td>\n",
              "      <td>2</td>\n",
              "    </tr>\n",
              "    <tr>\n",
              "      <th>274701</th>\n",
              "      <td>278848</td>\n",
              "      <td>30-04-2020</td>\n",
              "      <td>0</td>\n",
              "      <td>0</td>\n",
              "      <td>0</td>\n",
              "      <td>0</td>\n",
              "      <td>0</td>\n",
              "      <td>0</td>\n",
              "      <td>1</td>\n",
              "      <td>2</td>\n",
              "    </tr>\n",
              "  </tbody>\n",
              "</table>\n",
              "<p>274702 rows × 10 columns</p>\n",
              "</div>\n",
              "    <div class=\"colab-df-buttons\">\n",
              "\n",
              "  <div class=\"colab-df-container\">\n",
              "    <button class=\"colab-df-convert\" onclick=\"convertToInteractive('df-45152866-3f42-42d5-8177-463f16730063')\"\n",
              "            title=\"Convert this dataframe to an interactive table.\"\n",
              "            style=\"display:none;\">\n",
              "\n",
              "  <svg xmlns=\"http://www.w3.org/2000/svg\" height=\"24px\" viewBox=\"0 -960 960 960\">\n",
              "    <path d=\"M120-120v-720h720v720H120Zm60-500h600v-160H180v160Zm220 220h160v-160H400v160Zm0 220h160v-160H400v160ZM180-400h160v-160H180v160Zm440 0h160v-160H620v160ZM180-180h160v-160H180v160Zm440 0h160v-160H620v160Z\"/>\n",
              "  </svg>\n",
              "    </button>\n",
              "\n",
              "  <style>\n",
              "    .colab-df-container {\n",
              "      display:flex;\n",
              "      gap: 12px;\n",
              "    }\n",
              "\n",
              "    .colab-df-convert {\n",
              "      background-color: #E8F0FE;\n",
              "      border: none;\n",
              "      border-radius: 50%;\n",
              "      cursor: pointer;\n",
              "      display: none;\n",
              "      fill: #1967D2;\n",
              "      height: 32px;\n",
              "      padding: 0 0 0 0;\n",
              "      width: 32px;\n",
              "    }\n",
              "\n",
              "    .colab-df-convert:hover {\n",
              "      background-color: #E2EBFA;\n",
              "      box-shadow: 0px 1px 2px rgba(60, 64, 67, 0.3), 0px 1px 3px 1px rgba(60, 64, 67, 0.15);\n",
              "      fill: #174EA6;\n",
              "    }\n",
              "\n",
              "    .colab-df-buttons div {\n",
              "      margin-bottom: 4px;\n",
              "    }\n",
              "\n",
              "    [theme=dark] .colab-df-convert {\n",
              "      background-color: #3B4455;\n",
              "      fill: #D2E3FC;\n",
              "    }\n",
              "\n",
              "    [theme=dark] .colab-df-convert:hover {\n",
              "      background-color: #434B5C;\n",
              "      box-shadow: 0px 1px 3px 1px rgba(0, 0, 0, 0.15);\n",
              "      filter: drop-shadow(0px 1px 2px rgba(0, 0, 0, 0.3));\n",
              "      fill: #FFFFFF;\n",
              "    }\n",
              "  </style>\n",
              "\n",
              "    <script>\n",
              "      const buttonEl =\n",
              "        document.querySelector('#df-45152866-3f42-42d5-8177-463f16730063 button.colab-df-convert');\n",
              "      buttonEl.style.display =\n",
              "        google.colab.kernel.accessAllowed ? 'block' : 'none';\n",
              "\n",
              "      async function convertToInteractive(key) {\n",
              "        const element = document.querySelector('#df-45152866-3f42-42d5-8177-463f16730063');\n",
              "        const dataTable =\n",
              "          await google.colab.kernel.invokeFunction('convertToInteractive',\n",
              "                                                    [key], {});\n",
              "        if (!dataTable) return;\n",
              "\n",
              "        const docLinkHtml = 'Like what you see? Visit the ' +\n",
              "          '<a target=\"_blank\" href=https://colab.research.google.com/notebooks/data_table.ipynb>data table notebook</a>'\n",
              "          + ' to learn more about interactive tables.';\n",
              "        element.innerHTML = '';\n",
              "        dataTable['output_type'] = 'display_data';\n",
              "        await google.colab.output.renderOutput(dataTable, element);\n",
              "        const docLink = document.createElement('div');\n",
              "        docLink.innerHTML = docLinkHtml;\n",
              "        element.appendChild(docLink);\n",
              "      }\n",
              "    </script>\n",
              "  </div>\n",
              "\n",
              "\n",
              "<div id=\"df-b8a6abd1-d221-4ee3-bd69-a224fca004fd\">\n",
              "  <button class=\"colab-df-quickchart\" onclick=\"quickchart('df-b8a6abd1-d221-4ee3-bd69-a224fca004fd')\"\n",
              "            title=\"Suggest charts\"\n",
              "            style=\"display:none;\">\n",
              "\n",
              "<svg xmlns=\"http://www.w3.org/2000/svg\" height=\"24px\"viewBox=\"0 0 24 24\"\n",
              "     width=\"24px\">\n",
              "    <g>\n",
              "        <path d=\"M19 3H5c-1.1 0-2 .9-2 2v14c0 1.1.9 2 2 2h14c1.1 0 2-.9 2-2V5c0-1.1-.9-2-2-2zM9 17H7v-7h2v7zm4 0h-2V7h2v10zm4 0h-2v-4h2v4z\"/>\n",
              "    </g>\n",
              "</svg>\n",
              "  </button>\n",
              "\n",
              "<style>\n",
              "  .colab-df-quickchart {\n",
              "      --bg-color: #E8F0FE;\n",
              "      --fill-color: #1967D2;\n",
              "      --hover-bg-color: #E2EBFA;\n",
              "      --hover-fill-color: #174EA6;\n",
              "      --disabled-fill-color: #AAA;\n",
              "      --disabled-bg-color: #DDD;\n",
              "  }\n",
              "\n",
              "  [theme=dark] .colab-df-quickchart {\n",
              "      --bg-color: #3B4455;\n",
              "      --fill-color: #D2E3FC;\n",
              "      --hover-bg-color: #434B5C;\n",
              "      --hover-fill-color: #FFFFFF;\n",
              "      --disabled-bg-color: #3B4455;\n",
              "      --disabled-fill-color: #666;\n",
              "  }\n",
              "\n",
              "  .colab-df-quickchart {\n",
              "    background-color: var(--bg-color);\n",
              "    border: none;\n",
              "    border-radius: 50%;\n",
              "    cursor: pointer;\n",
              "    display: none;\n",
              "    fill: var(--fill-color);\n",
              "    height: 32px;\n",
              "    padding: 0;\n",
              "    width: 32px;\n",
              "  }\n",
              "\n",
              "  .colab-df-quickchart:hover {\n",
              "    background-color: var(--hover-bg-color);\n",
              "    box-shadow: 0 1px 2px rgba(60, 64, 67, 0.3), 0 1px 3px 1px rgba(60, 64, 67, 0.15);\n",
              "    fill: var(--button-hover-fill-color);\n",
              "  }\n",
              "\n",
              "  .colab-df-quickchart-complete:disabled,\n",
              "  .colab-df-quickchart-complete:disabled:hover {\n",
              "    background-color: var(--disabled-bg-color);\n",
              "    fill: var(--disabled-fill-color);\n",
              "    box-shadow: none;\n",
              "  }\n",
              "\n",
              "  .colab-df-spinner {\n",
              "    border: 2px solid var(--fill-color);\n",
              "    border-color: transparent;\n",
              "    border-bottom-color: var(--fill-color);\n",
              "    animation:\n",
              "      spin 1s steps(1) infinite;\n",
              "  }\n",
              "\n",
              "  @keyframes spin {\n",
              "    0% {\n",
              "      border-color: transparent;\n",
              "      border-bottom-color: var(--fill-color);\n",
              "      border-left-color: var(--fill-color);\n",
              "    }\n",
              "    20% {\n",
              "      border-color: transparent;\n",
              "      border-left-color: var(--fill-color);\n",
              "      border-top-color: var(--fill-color);\n",
              "    }\n",
              "    30% {\n",
              "      border-color: transparent;\n",
              "      border-left-color: var(--fill-color);\n",
              "      border-top-color: var(--fill-color);\n",
              "      border-right-color: var(--fill-color);\n",
              "    }\n",
              "    40% {\n",
              "      border-color: transparent;\n",
              "      border-right-color: var(--fill-color);\n",
              "      border-top-color: var(--fill-color);\n",
              "    }\n",
              "    60% {\n",
              "      border-color: transparent;\n",
              "      border-right-color: var(--fill-color);\n",
              "    }\n",
              "    80% {\n",
              "      border-color: transparent;\n",
              "      border-right-color: var(--fill-color);\n",
              "      border-bottom-color: var(--fill-color);\n",
              "    }\n",
              "    90% {\n",
              "      border-color: transparent;\n",
              "      border-bottom-color: var(--fill-color);\n",
              "    }\n",
              "  }\n",
              "</style>\n",
              "\n",
              "  <script>\n",
              "    async function quickchart(key) {\n",
              "      const quickchartButtonEl =\n",
              "        document.querySelector('#' + key + ' button');\n",
              "      quickchartButtonEl.disabled = true;  // To prevent multiple clicks.\n",
              "      quickchartButtonEl.classList.add('colab-df-spinner');\n",
              "      try {\n",
              "        const charts = await google.colab.kernel.invokeFunction(\n",
              "            'suggestCharts', [key], {});\n",
              "      } catch (error) {\n",
              "        console.error('Error during call to suggestCharts:', error);\n",
              "      }\n",
              "      quickchartButtonEl.classList.remove('colab-df-spinner');\n",
              "      quickchartButtonEl.classList.add('colab-df-quickchart-complete');\n",
              "    }\n",
              "    (() => {\n",
              "      let quickchartButtonEl =\n",
              "        document.querySelector('#df-b8a6abd1-d221-4ee3-bd69-a224fca004fd button');\n",
              "      quickchartButtonEl.style.display =\n",
              "        google.colab.kernel.accessAllowed ? 'block' : 'none';\n",
              "    })();\n",
              "  </script>\n",
              "</div>\n",
              "\n",
              "    </div>\n",
              "  </div>\n"
            ]
          },
          "metadata": {},
          "execution_count": 38
        }
      ]
    },
    {
      "cell_type": "code",
      "source": [
        "# 1. Find the number of corona patients who faced shortness of breath\n",
        "query_shortness_of_breath = \"\"\"\n",
        "SELECT COUNT(*) AS num_patients_shortness_of_breath\n",
        "FROM df\n",
        "WHERE Corona = 1 AND Shortness_of_breath = 1;\n",
        "\"\"\"\n",
        "\n",
        "# Execute the query and fetch the result\n",
        "result_shortness_of_breath = conn.execute(query_shortness_of_breath).fetchdf()\n",
        "\n",
        "# Print the result\n",
        "print(result_shortness_of_breath)"
      ],
      "metadata": {
        "colab": {
          "base_uri": "https://localhost:8080/"
        },
        "id": "XqydcQzz2U9v",
        "outputId": "8e787f78-d438-45e6-b22d-75eda1594544"
      },
      "execution_count": 39,
      "outputs": [
        {
          "output_type": "stream",
          "name": "stdout",
          "text": [
            "   num_patients_shortness_of_breath\n",
            "0                              1162\n"
          ]
        }
      ]
    },
    {
      "cell_type": "markdown",
      "source": [
        "The output indicates that there were 1162 corona patients who faced shortness of breath"
      ],
      "metadata": {
        "id": "tpjnfXRnAju1"
      }
    },
    {
      "cell_type": "code",
      "source": [
        "#2. Find the number of negative corona patients who have fever and sore_throat\n",
        "query = \"\"\"\n",
        "SELECT COUNT(*) AS num_negative_patients_fever_sore_throat\n",
        "FROM df\n",
        "WHERE Corona = 0 AND Fever = 1 AND Sore_throat = 1;\n",
        "\"\"\"\n",
        "\n",
        "# Execute the query and fetch the result\n",
        "result = conn.execute(query).fetchdf()\n",
        "\n",
        "# Print the result\n",
        "print(result)\n"
      ],
      "metadata": {
        "colab": {
          "base_uri": "https://localhost:8080/"
        },
        "id": "crPQvsy06O9D",
        "outputId": "6b24aec7-ae48-4585-cb20-14198df76375"
      },
      "execution_count": 40,
      "outputs": [
        {
          "output_type": "stream",
          "name": "stdout",
          "text": [
            "   num_negative_patients_fever_sore_throat\n",
            "0                                      121\n"
          ]
        }
      ]
    },
    {
      "cell_type": "markdown",
      "source": [
        "The output shows that there were 121 negative corona patients who had both fever and sore throat"
      ],
      "metadata": {
        "id": "DqMrE13MAr4y"
      }
    },
    {
      "cell_type": "code",
      "source": [
        "# Group the data by month and rank the number of positive cases\n",
        "query_group_and_rank = \"\"\"\n",
        "    SELECT SUBSTRING(Test_date, 4, 2) AS month,\n",
        "           SUBSTRING(Test_date, 7, 4) AS year,\n",
        "           COUNT(*) AS num_positive_cases\n",
        "    FROM df\n",
        "    WHERE Corona = 1\n",
        "    GROUP BY month, year\n",
        "    ORDER BY num_positive_cases DESC;\n",
        "\"\"\"\n",
        "\n",
        "# Execute the query and fetch the result\n",
        "result_group_and_rank = conn.execute(query_group_and_rank).fetchdf()\n",
        "\n",
        "# Print the result\n",
        "print(result_group_and_rank)"
      ],
      "metadata": {
        "colab": {
          "base_uri": "https://localhost:8080/"
        },
        "id": "FC8cze6D7ggP",
        "outputId": "09c54840-3c13-45fe-d07f-5e4609166df6"
      },
      "execution_count": 41,
      "outputs": [
        {
          "output_type": "stream",
          "name": "stdout",
          "text": [
            "  month  year  num_positive_cases\n",
            "0    04  2020                8862\n",
            "1    03  2020                5832\n"
          ]
        }
      ]
    },
    {
      "cell_type": "markdown",
      "source": [
        "For the month of March 2020, there were 5832 positive cases.\n",
        "\n",
        "For the month of April 2020, there were 8862 positive cases."
      ],
      "metadata": {
        "id": "Gbv4xiVpA0PN"
      }
    },
    {
      "cell_type": "code",
      "source": [
        "# Find the number of female negative corona patients with cough and headache\n",
        "query_female_negative_cough_headache = \"\"\"\n",
        "SELECT COUNT(*) AS num_female_negative_patients_cough_headache\n",
        "FROM df\n",
        "WHERE Corona = 0 AND Sex = 'female' AND Cough_symptoms = 1 AND Headache = 1;\n",
        "\"\"\"\n",
        "\n",
        "# Execute the query and fetch the result\n",
        "result_female_negative_cough_headache = conn.execute(query_female_negative_cough_headache).fetchdf()\n",
        "\n",
        "# Print the result\n",
        "print(result_female_negative_cough_headache)\n"
      ],
      "metadata": {
        "colab": {
          "base_uri": "https://localhost:8080/"
        },
        "id": "4pPmywEX9Gw0",
        "outputId": "35ecaa04-6c76-47d0-f4e9-574d315ccd47"
      },
      "execution_count": 42,
      "outputs": [
        {
          "output_type": "stream",
          "name": "stdout",
          "text": [
            "   num_female_negative_patients_cough_headache\n",
            "0                                            0\n"
          ]
        }
      ]
    },
    {
      "cell_type": "markdown",
      "source": [
        "The number of female negative corona patients who faced cough and headache is 0."
      ],
      "metadata": {
        "id": "eUZ8kwjzBBgq"
      }
    },
    {
      "cell_type": "code",
      "source": [
        "# Which three symptoms were more common among COVID positive patients?\n",
        "query_common_symptoms_positive = \"\"\"\n",
        "SELECT\n",
        "    SUM(Cough_symptoms) AS num_cough,\n",
        "    SUM(Fever) AS num_fever,\n",
        "    SUM(Sore_throat) AS num_sore_throat\n",
        "FROM df\n",
        "WHERE Corona = 1;\n",
        "\"\"\"\n",
        "\n",
        "# Execute the query and fetch the result\n",
        "result_common_symptoms_positive = conn.execute(query_common_symptoms_positive).fetchdf()\n",
        "\n",
        "# Print the result\n",
        "print(result_common_symptoms_positive)\n"
      ],
      "metadata": {
        "colab": {
          "base_uri": "https://localhost:8080/"
        },
        "id": "VOctfR-J9-zW",
        "outputId": "95dcf3fb-5a76-4aa8-9b08-6056561400c8"
      },
      "execution_count": 43,
      "outputs": [
        {
          "output_type": "stream",
          "name": "stdout",
          "text": [
            "   num_cough  num_fever  num_sore_throat\n",
            "0     6582.0     5558.0           1523.0\n"
          ]
        }
      ]
    },
    {
      "cell_type": "markdown",
      "source": [
        "The number of corona patients with cough symptoms is 6582.\n",
        "\n",
        "The number of corona patients with fever is 5558.\n",
        "\n",
        "The number of corona patients with sore throat is 1523."
      ],
      "metadata": {
        "id": "Wg0o0fWXBJWw"
      }
    },
    {
      "cell_type": "code",
      "source": [
        "# Which symptom was less common among COVID negative people?\n",
        "query_less_common_symptom_negative = \"\"\"\n",
        "SELECT MIN(SymptomCount) AS min_symptom_count\n",
        "FROM (\n",
        "    SELECT\n",
        "        SUM(Cough_symptoms) + SUM(Fever) + SUM(Sore_throat) + SUM(Shortness_of_breath) + SUM(Headache) AS SymptomCount\n",
        "    FROM df\n",
        "    WHERE Corona = 0\n",
        ") AS NegativeSymptoms;\n",
        "\"\"\"\n",
        "\n",
        "# Execute the query and fetch the result\n",
        "result_less_common_symptom_negative = conn.execute(query_less_common_symptom_negative).fetchdf()\n",
        "\n",
        "# Print the result\n",
        "print(result_less_common_symptom_negative)\n"
      ],
      "metadata": {
        "colab": {
          "base_uri": "https://localhost:8080/"
        },
        "id": "puArGUh1-ANO",
        "outputId": "b776ce51-8777-4cb1-f00c-da01f6d5b54e"
      },
      "execution_count": 44,
      "outputs": [
        {
          "output_type": "stream",
          "name": "stdout",
          "text": [
            "   min_symptom_count\n",
            "0            51699.0\n"
          ]
        }
      ]
    },
    {
      "cell_type": "markdown",
      "source": [
        "The minimum count of symptoms across different categories (cough, fever, sore throat, etc.) is 51699."
      ],
      "metadata": {
        "id": "qU5ruL6RBS2Z"
      }
    },
    {
      "cell_type": "code",
      "source": [
        "query_most_common_symptoms_male_abroad = \"\"\"\n",
        "SELECT\n",
        "    SUM(CAST(Cough_symptoms AS INT)) AS num_cough,\n",
        "    SUM(CAST(Fever AS INT)) AS num_fever,\n",
        "    SUM(CAST(Sore_throat AS INT)) AS num_sore_throat,\n",
        "    SUM(CAST(Shortness_of_breath AS INT)) AS num_shortness_of_breath,\n",
        "    SUM(CAST(Headache AS INT)) AS num_headache\n",
        "FROM df\n",
        "WHERE\n",
        "    Corona = '1'  -- Assuming '1' indicates a positive case (adjust based on your data)\n",
        "    AND Sex = 'male'\n",
        "    AND Known_contact = '2';  -- Assuming '2' indicates known contact abroad\n",
        "\"\"\"\n",
        "\n",
        "# Execute the query and fetch the result\n",
        "result_most_common_symptoms_male_abroad = conn.execute(query_most_common_symptoms_male_abroad).fetchdf()\n",
        "\n",
        "# Print the result\n",
        "print(result_most_common_symptoms_male_abroad)\n",
        "\n"
      ],
      "metadata": {
        "colab": {
          "base_uri": "https://localhost:8080/"
        },
        "id": "Q8czj9PG-NaD",
        "outputId": "2dde7c2a-116e-4517-e4a8-f850d647a497"
      },
      "execution_count": 45,
      "outputs": [
        {
          "output_type": "stream",
          "name": "stdout",
          "text": [
            "   num_cough  num_fever  num_sore_throat  num_shortness_of_breath  \\\n",
            "0        NaN        NaN              NaN                      NaN   \n",
            "\n",
            "   num_headache  \n",
            "0           NaN  \n"
          ]
        }
      ]
    },
    {
      "cell_type": "code",
      "source": [
        "query_most_common_symptoms_male_abroad = \"\"\"\n",
        "SELECT\n",
        "    COALESCE(SUM(CAST(Cough_symptoms AS INT)), 0) AS num_cough,\n",
        "    COALESCE(SUM(CAST(Fever AS INT)), 0) AS num_fever,\n",
        "    COALESCE(SUM(CAST(Sore_throat AS INT)), 0) AS num_sore_throat,\n",
        "    COALESCE(SUM(CAST(Shortness_of_breath AS INT)), 0) AS num_shortness_of_breath,\n",
        "    COALESCE(SUM(CAST(Headache AS INT)), 0) AS num_headache\n",
        "FROM df\n",
        "WHERE\n",
        "    Corona = '1'  -- Assuming '1' indicates a positive case (adjust based on your data)\n",
        "    AND Sex = 'male'\n",
        "    AND Known_contact = '2';  -- Assuming '2' indicates known contact abroad\n",
        "\"\"\"\n",
        "\n",
        "# Execute the query and fetch the result\n",
        "result_most_common_symptoms_male_abroad = conn.execute(query_most_common_symptoms_male_abroad).fetchdf()\n",
        "\n",
        "# Print the result\n",
        "print(result_most_common_symptoms_male_abroad)\n"
      ],
      "metadata": {
        "colab": {
          "base_uri": "https://localhost:8080/"
        },
        "id": "hYYwopTyDp37",
        "outputId": "9974cebe-b87e-4f61-eae8-7981374c6921"
      },
      "execution_count": 46,
      "outputs": [
        {
          "output_type": "stream",
          "name": "stdout",
          "text": [
            "   num_cough  num_fever  num_sore_throat  num_shortness_of_breath  \\\n",
            "0        0.0        0.0              0.0                      0.0   \n",
            "\n",
            "   num_headache  \n",
            "0           0.0  \n"
          ]
        }
      ]
    },
    {
      "cell_type": "code",
      "source": [
        "query_most_common_symptoms_male_abroad = \"\"\"\n",
        "SELECT\n",
        "    COALESCE(SUM(CAST(Cough_symptoms AS INT)), 0) AS num_cough,\n",
        "    COALESCE(SUM(CAST(Fever AS INT)), 0) AS num_fever,\n",
        "    COALESCE(SUM(CAST(Sore_throat AS INT)), 0) AS num_sore_throat,\n",
        "    COALESCE(SUM(CAST(Shortness_of_breath AS INT)), 0) AS num_shortness_of_breath,\n",
        "    COALESCE(SUM(CAST(Headache AS INT)), 0) AS num_headache\n",
        "FROM df\n",
        "WHERE\n",
        "    Corona = '1'  -- Assuming '1' indicates a positive case (adjust based on your data)\n",
        "    AND Sex = 'male'\n",
        "    AND Known_contact = '2';  -- Assuming '2' indicates known contact abroad\n",
        "\"\"\"\n",
        "\n",
        "# Execute the corrected query and fetch the result\n",
        "result_most_common_symptoms_male_abroad = conn.execute(query_most_common_symptoms_male_abroad).fetchdf()\n",
        "\n",
        "# Print the result\n",
        "print(result_most_common_symptoms_male_abroad)\n"
      ],
      "metadata": {
        "colab": {
          "base_uri": "https://localhost:8080/"
        },
        "id": "eROSK9qyEJUk",
        "outputId": "24136de1-16d0-4293-e2be-db523bc5ee31"
      },
      "execution_count": 47,
      "outputs": [
        {
          "output_type": "stream",
          "name": "stdout",
          "text": [
            "   num_cough  num_fever  num_sore_throat  num_shortness_of_breath  \\\n",
            "0        0.0        0.0              0.0                      0.0   \n",
            "\n",
            "   num_headache  \n",
            "0           0.0  \n"
          ]
        }
      ]
    },
    {
      "cell_type": "markdown",
      "source": [
        " It shows that there are 0 cases of cough, fever, sore throat, shortness of breath, and headache among male individuals with known contact abroad who tested positive for COVID-19."
      ],
      "metadata": {
        "id": "uKHJMCnqEorC"
      }
    },
    {
      "cell_type": "markdown",
      "source": [
        "# **conclusion 🔚**"
      ],
      "metadata": {
        "id": "S_KN57-YFn1F"
      }
    },
    {
      "cell_type": "markdown",
      "source": [
        "\n",
        "In this **COVID-19** prediction project proposal, we conducted a thorough analysis of the data using both Data Analysis (DA) and Machine Learning (ML) techniques. Through this process, we derived insights from the data. Our findings lead us to accept the **null hypothesis**, indicating a significant correlation between the symptoms and COVID-19, as supported by Exploratory Data Analysis (EDA). Additionally, the **RandomForest model** emerged as the superior choice, demonstrating a well-rounded performance with a favorable balance between precision, recall, and accuracy."
      ],
      "metadata": {
        "id": "GZgNmHRzFsAn"
      }
    }
  ]
}